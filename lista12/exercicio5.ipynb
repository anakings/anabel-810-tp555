{
 "cells": [
  {
   "cell_type": "markdown",
   "metadata": {},
   "source": [
    "## Hiperparâmetros: passo de aprendizagem, numero de epochs, tamanho de batch de treinamento, numero de camadas ocultas, numeros de neurônios em cada camada, função de ativação\n",
    "## Caso a rede estiver sobreajustando é preciso diminuir o número de neurônios em cada camada oculta ou escolher um modelo com mais camadas e neurônios do que se realmente precisa e, em seguida, usar early stopping para se evitar que a rede sobreajuste."
   ]
  },
  {
   "cell_type": "code",
   "execution_count": null,
   "metadata": {},
   "outputs": [],
   "source": []
  }
 ],
 "metadata": {
  "kernelspec": {
   "display_name": "Python 3",
   "language": "python",
   "name": "python3"
  },
  "language_info": {
   "codemirror_mode": {
    "name": "ipython",
    "version": 3
   },
   "file_extension": ".py",
   "mimetype": "text/x-python",
   "name": "python",
   "nbconvert_exporter": "python",
   "pygments_lexer": "ipython3",
   "version": "3.7.4"
  }
 },
 "nbformat": 4,
 "nbformat_minor": 2
}
