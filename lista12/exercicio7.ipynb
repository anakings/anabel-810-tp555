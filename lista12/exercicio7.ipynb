{
 "cells": [
  {
   "cell_type": "code",
   "execution_count": 30,
   "metadata": {},
   "outputs": [],
   "source": [
    "import tensorflow.compat.v1 as tf\n",
    "tf.disable_v2_behavior()\n",
    "from tensorflow.keras import Input\n",
    "from tensorflow.keras.layers import Dense\n",
    "import numpy as np\n",
    "import tfgraphviz as tfg\n",
    "from tensorboard import notebook"
   ]
  },
  {
   "cell_type": "code",
   "execution_count": 31,
   "metadata": {},
   "outputs": [],
   "source": [
    "# to make this notebook's output stable across runs\n",
    "def reset_graph(seed=42):\n",
    "    tf.reset_default_graph()\n",
    "    tf.set_random_seed(seed)\n",
    "    np.random.seed(seed)\n",
    "    \n",
    "def shuffle_batch(X, y, batch_size):\n",
    "    rnd_idx = np.random.permutation(len(X))\n",
    "    n_batches = len(X) // batch_size\n",
    "    for batch_idx in np.array_split(rnd_idx, n_batches):\n",
    "        X_batch, y_batch = X[batch_idx], y[batch_idx]\n",
    "        yield X_batch, y_batch"
   ]
  },
  {
   "cell_type": "code",
   "execution_count": 32,
   "metadata": {},
   "outputs": [],
   "source": [
    "reset_graph()\n",
    "\n",
    "n_inputs = 28*28 # MNIST\n",
    "n_hidden1 = 300\n",
    "n_hidden2 = 100\n",
    "n_outputs = 10"
   ]
  },
  {
   "cell_type": "code",
   "execution_count": 33,
   "metadata": {},
   "outputs": [],
   "source": [
    "(X_train, y_train), (X_test, y_test) = tf.keras.datasets.mnist.load_data()\n",
    "X_train = X_train.astype(np.float32).reshape(-1, 28*28) / 255.0\n",
    "X_test = X_test.astype(np.float32).reshape(-1, 28*28) / 255.0\n",
    "y_train = y_train.astype(np.int32)\n",
    "y_test = y_test.astype(np.int32)\n",
    "X_valid, X_train = X_train[:5000], X_train[5000:]\n",
    "y_valid, y_train = y_train[:5000], y_train[5000:]"
   ]
  },
  {
   "cell_type": "code",
   "execution_count": 34,
   "metadata": {},
   "outputs": [],
   "source": [
    "X = tf.placeholder(tf.float32, shape=(None, n_inputs), name=\"X\")\n",
    "y = tf.placeholder(tf.int64, shape=(None), name=\"y\")\n",
    "\n",
    "with tf.name_scope(\"dnn\"):\n",
    "    hidden1 = tf.keras.layers.Dense(n_hidden1, activation=tf.nn.relu)(X)\n",
    "    hidden2 = tf.keras.layers.Dense(n_hidden2, activation=tf.nn.relu)(hidden1)\n",
    "    logits = tf.keras.layers.Dense(n_outputs)(hidden2)\n",
    "    \n",
    "with tf.name_scope(\"loss\"):\n",
    "    xentropy = tf.nn.sparse_softmax_cross_entropy_with_logits(labels=y, logits=logits)\n",
    "    loss = tf.reduce_mean(xentropy, name=\"loss\")\n",
    "    \n",
    "learning_rate = 0.01\n",
    "\n",
    "with tf.name_scope(\"train\"):\n",
    "    optimizer = tf.train.GradientDescentOptimizer(learning_rate)\n",
    "    training_op = optimizer.minimize(loss)\n",
    "    \n",
    "with tf.name_scope(\"eval\"):\n",
    "    correct = tf.nn.in_top_k(logits, y, 1)\n",
    "    accuracy = tf.reduce_mean(tf.cast(correct, tf.float32))\n",
    "    \n",
    "init = tf.global_variables_initializer()\n",
    "saver = tf.train.Saver()"
   ]
  },
  {
   "cell_type": "code",
   "execution_count": 35,
   "metadata": {},
   "outputs": [
    {
     "name": "stdout",
     "output_type": "stream",
     "text": [
      "0 Train loss: 0.35616454 Progress counter: 0\n",
      "1 Train loss: 0.27835962 Progress counter: 0\n",
      "2 Train loss: 0.24131997 Progress counter: 0\n",
      "3 Train loss: 0.21570364 Progress counter: 0\n",
      "4 Train loss: 0.19629258 Progress counter: 0\n",
      "5 Train loss: 0.1849023 Progress counter: 0\n",
      "6 Train loss: 0.16717534 Progress counter: 0\n",
      "7 Train loss: 0.15514867 Progress counter: 0\n",
      "8 Train loss: 0.14740945 Progress counter: 0\n",
      "9 Train loss: 0.14121787 Progress counter: 0\n",
      "10 Train loss: 0.13235195 Progress counter: 0\n",
      "11 Train loss: 0.12601897 Progress counter: 0\n",
      "12 Train loss: 0.123594224 Progress counter: 0\n",
      "13 Train loss: 0.11641362 Progress counter: 0\n",
      "14 Train loss: 0.1121094 Progress counter: 0\n",
      "15 Train loss: 0.10632257 Progress counter: 0\n",
      "16 Train loss: 0.10339074 Progress counter: 0\n",
      "17 Train loss: 0.103190884 Progress counter: 0\n",
      "18 Train loss: 0.0965985 Progress counter: 0\n",
      "19 Train loss: 0.09443557 Progress counter: 0\n",
      "20 Train loss: 0.092901275 Progress counter: 0\n",
      "21 Train loss: 0.09137751 Progress counter: 0\n",
      "22 Train loss: 0.08830231 Progress counter: 0\n",
      "23 Train loss: 0.08558967 Progress counter: 0\n",
      "24 Train loss: 0.083691016 Progress counter: 0\n",
      "25 Train loss: 0.08237853 Progress counter: 0\n",
      "26 Train loss: 0.079869375 Progress counter: 0\n",
      "27 Train loss: 0.078155465 Progress counter: 0\n",
      "28 Train loss: 0.08145653 Progress counter: 1\n",
      "29 Train loss: 0.07662849 Progress counter: 0\n",
      "30 Train loss: 0.077161014 Progress counter: 1\n",
      "31 Train loss: 0.074817255 Progress counter: 0\n",
      "32 Train loss: 0.073950075 Progress counter: 0\n",
      "33 Train loss: 0.073341124 Progress counter: 0\n",
      "34 Train loss: 0.07237391 Progress counter: 0\n",
      "35 Train loss: 0.072740175 Progress counter: 1\n",
      "36 Train loss: 0.070238814 Progress counter: 0\n",
      "37 Train loss: 0.071815185 Progress counter: 1\n",
      "38 Train loss: 0.06925711 Progress counter: 0\n",
      "39 Train loss: 0.070285656 Progress counter: 1\n",
      "40 Train loss: 0.068977915 Progress counter: 0\n",
      "41 Train loss: 0.06808004 Progress counter: 0\n",
      "42 Train loss: 0.06736226 Progress counter: 0\n",
      "43 Train loss: 0.067201376 Progress counter: 0\n",
      "44 Train loss: 0.06860846 Progress counter: 1\n",
      "45 Train loss: 0.06685137 Progress counter: 0\n",
      "46 Train loss: 0.06578213 Progress counter: 0\n",
      "47 Train loss: 0.06640283 Progress counter: 1\n",
      "48 Train loss: 0.06521882 Progress counter: 0\n",
      "49 Train loss: 0.066025645 Progress counter: 1\n",
      "50 Train loss: 0.06578109 Progress counter: 2\n",
      "51 Train loss: 0.06607203 Progress counter: 3\n",
      "52 Train loss: 0.065847546 Progress counter: 4\n",
      "53 Train loss: 0.066367686 Progress counter: 5\n",
      "54 Train loss: 0.06511813 Progress counter: 0\n",
      "55 Train loss: 0.065796316 Progress counter: 1\n",
      "56 Train loss: 0.06493053 Progress counter: 0\n",
      "57 Train loss: 0.0649424 Progress counter: 1\n",
      "58 Train loss: 0.066000536 Progress counter: 2\n",
      "59 Train loss: 0.06524977 Progress counter: 3\n",
      "60 Train loss: 0.06575045 Progress counter: 4\n",
      "61 Train loss: 0.065775625 Progress counter: 5\n",
      "62 Train loss: 0.066130005 Progress counter: 6\n",
      "63 Train loss: 0.065160535 Progress counter: 7\n",
      "64 Train loss: 0.066208966 Progress counter: 8\n",
      "65 Train loss: 0.06557627 Progress counter: 9\n",
      "66 Train loss: 0.066483535 Progress counter: 10\n",
      "67 Train loss: 0.066137336 Progress counter: 11\n",
      "68 Train loss: 0.064955056 Progress counter: 12\n",
      "69 Train loss: 0.065054454 Progress counter: 13\n",
      "70 Train loss: 0.06556673 Progress counter: 14\n",
      "71 Train loss: 0.066235706 Progress counter: 15\n",
      "72 Train loss: 0.06610928 Progress counter: 16\n",
      "73 Train loss: 0.066156924 Progress counter: 17\n",
      "74 Train loss: 0.06561737 Progress counter: 18\n",
      "75 Train loss: 0.06560802 Progress counter: 19\n",
      "76 Train loss: 0.06638827 Progress counter: 20\n",
      "77 Train loss: 0.06582603 Progress counter: 21\n",
      "78 Train loss: 0.06652832 Progress counter: 22\n",
      "79 Train loss: 0.067337915 Progress counter: 23\n",
      "80 Train loss: 0.06583937 Progress counter: 24\n",
      "81 Train loss: 0.06565264 Progress counter: 25\n",
      "82 Train loss: 0.066381976 Progress counter: 26\n",
      "83 Train loss: 0.06574821 Progress counter: 27\n",
      "84 Train loss: 0.06677923 Progress counter: 28\n",
      "85 Train loss: 0.06599144 Progress counter: 29\n",
      "86 Train loss: 0.06652074 Progress counter: 30\n",
      "87 Train loss: 0.06777426 Progress counter: 31\n",
      "88 Train loss: 0.06697302 Progress counter: 32\n",
      "89 Train loss: 0.06757502 Progress counter: 33\n",
      "90 Train loss: 0.06662986 Progress counter: 34\n",
      "91 Train loss: 0.06704342 Progress counter: 35\n",
      "92 Train loss: 0.06667863 Progress counter: 36\n",
      "93 Train loss: 0.067077965 Progress counter: 37\n",
      "94 Train loss: 0.06768099 Progress counter: 38\n",
      "95 Train loss: 0.06760569 Progress counter: 39\n",
      "96 Train loss: 0.067192286 Progress counter: 40\n",
      "97 Train loss: 0.06729856 Progress counter: 41\n",
      "98 Train loss: 0.067057334 Progress counter: 42\n",
      "99 Train loss: 0.06736644 Progress counter: 43\n",
      "100 Train loss: 0.06767869 Progress counter: 44\n",
      "101 Train loss: 0.06860214 Progress counter: 45\n",
      "102 Train loss: 0.0682885 Progress counter: 46\n",
      "103 Train loss: 0.06787728 Progress counter: 47\n",
      "104 Train loss: 0.068894126 Progress counter: 48\n",
      "105 Train loss: 0.0685746 Progress counter: 49\n",
      "106 Train loss: 0.0679807 Progress counter: 50\n"
     ]
    }
   ],
   "source": [
    "batch_size = 50\n",
    "\n",
    "finish = False\n",
    "no_progress_counter = 0\n",
    "minimum_error = 1\n",
    "epoch = 0\n",
    "\n",
    "with tf.Session() as sess:\n",
    "    init.run()\n",
    "    while finish == False:\n",
    "        for X_batch, y_batch in shuffle_batch(X_train, y_train, batch_size):\n",
    "            sess.run(training_op, feed_dict={X: X_batch, y: y_batch})\n",
    "        acc_train = accuracy.eval(feed_dict={X: X_batch, y: y_batch})\n",
    "        acc_test = accuracy.eval(feed_dict={X: X_valid, y: y_valid})\n",
    "        error = loss.eval(feed_dict={X: X_valid, y: y_valid})\n",
    "        if minimum_error > error:\n",
    "            minimum_error = error\n",
    "            no_progress_counter = 0\n",
    "        else:\n",
    "            no_progress_counter += 1\n",
    "            if no_progress_counter == 50: finish = True\n",
    "        print(epoch, 'Train loss:', error, 'Progress counter:', no_progress_counter)\n",
    "        epoch += 1\n",
    "    save_path = saver.save(sess, \"./my_model_finalv1.ckpt\")"
   ]
  },
  {
   "cell_type": "code",
   "execution_count": 36,
   "metadata": {},
   "outputs": [
    {
     "name": "stdout",
     "output_type": "stream",
     "text": [
      "INFO:tensorflow:Restoring parameters from ./my_model_finalv1.ckpt\n"
     ]
    }
   ],
   "source": [
    "with tf.Session() as sess:\n",
    "    saver.restore(sess, \"./my_model_finalv1.ckpt\") # or better, use save_path\n",
    "    X_new_scaled = X_test[:20]\n",
    "    Z = logits.eval(feed_dict={X: X_new_scaled})\n",
    "    y_pred = np.argmax(Z, axis=1)"
   ]
  },
  {
   "cell_type": "code",
   "execution_count": 37,
   "metadata": {},
   "outputs": [
    {
     "name": "stdout",
     "output_type": "stream",
     "text": [
      "Predicted classes: [7 2 1 0 4 1 4 9 5 9 0 6 9 0 1 5 9 7 3 4]\n",
      "Actual classes:    [7 2 1 0 4 1 4 9 5 9 0 6 9 0 1 5 9 7 3 4]\n"
     ]
    }
   ],
   "source": [
    "print(\"Predicted classes:\", y_pred)\n",
    "print(\"Actual classes:   \", y_test[:20])"
   ]
  }
 ],
 "metadata": {
  "kernelspec": {
   "display_name": "Python 3",
   "language": "python",
   "name": "python3"
  },
  "language_info": {
   "codemirror_mode": {
    "name": "ipython",
    "version": 3
   },
   "file_extension": ".py",
   "mimetype": "text/x-python",
   "name": "python",
   "nbconvert_exporter": "python",
   "pygments_lexer": "ipython3",
   "version": "3.7.4"
  }
 },
 "nbformat": 4,
 "nbformat_minor": 2
}
