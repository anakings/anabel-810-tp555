{
 "cells": [
  {
   "cell_type": "code",
   "execution_count": 44,
   "metadata": {},
   "outputs": [],
   "source": [
    "import tensorflow.compat.v1 as tf\n",
    "tf.disable_v2_behavior()\n",
    "from tensorflow.keras import Input\n",
    "from tensorflow.keras.layers import Dense\n",
    "import numpy as np\n",
    "import tfgraphviz as tfg\n",
    "from tensorboard import notebook"
   ]
  },
  {
   "cell_type": "code",
   "execution_count": 45,
   "metadata": {},
   "outputs": [],
   "source": [
    "# to make this notebook's output stable across runs\n",
    "def reset_graph(seed=42):\n",
    "    tf.reset_default_graph()\n",
    "    tf.set_random_seed(seed)\n",
    "    np.random.seed(seed)\n",
    "    \n",
    "def shuffle_batch(X, y, batch_size):\n",
    "    rnd_idx = np.random.permutation(len(X))\n",
    "    n_batches = len(X) // batch_size\n",
    "    for batch_idx in np.array_split(rnd_idx, n_batches):\n",
    "        X_batch, y_batch = X[batch_idx], y[batch_idx]\n",
    "        yield X_batch, y_batch"
   ]
  },
  {
   "cell_type": "code",
   "execution_count": 46,
   "metadata": {},
   "outputs": [],
   "source": [
    "reset_graph()\n",
    "\n",
    "n_inputs = 28*28 # MNIST\n",
    "n_hidden1 = 300\n",
    "n_hidden2 = 100\n",
    "n_outputs = 10"
   ]
  },
  {
   "cell_type": "code",
   "execution_count": 47,
   "metadata": {},
   "outputs": [],
   "source": [
    "(X_train, y_train), (X_test, y_test) = tf.keras.datasets.mnist.load_data()\n",
    "X_train = X_train.astype(np.float32).reshape(-1, 28*28) / 255.0\n",
    "X_test = X_test.astype(np.float32).reshape(-1, 28*28) / 255.0\n",
    "y_train = y_train.astype(np.int32)\n",
    "y_test = y_test.astype(np.int32)\n",
    "X_valid, X_train = X_train[:5000], X_train[5000:]\n",
    "y_valid, y_train = y_train[:5000], y_train[5000:]"
   ]
  },
  {
   "cell_type": "code",
   "execution_count": 48,
   "metadata": {},
   "outputs": [],
   "source": [
    "X = tf.placeholder(tf.float32, shape=(None, n_inputs), name=\"X\")\n",
    "y = tf.placeholder(tf.int64, shape=(None), name=\"y\")\n",
    "\n",
    "with tf.name_scope(\"dnn\"):\n",
    "    hidden1 = tf.keras.layers.Dense(n_hidden1, activation=tf.nn.relu)(X)\n",
    "    hidden2 = tf.keras.layers.Dense(n_hidden2, activation=tf.nn.relu)(hidden1)\n",
    "    logits = tf.keras.layers.Dense(n_outputs)(hidden2)\n",
    "    \n",
    "with tf.name_scope(\"loss\"):\n",
    "    xentropy = tf.nn.sparse_softmax_cross_entropy_with_logits(labels=y, logits=logits)\n",
    "    loss = tf.reduce_mean(xentropy, name=\"loss\")\n",
    "    \n",
    "learning_rate = 0.01\n",
    "\n",
    "with tf.name_scope(\"train\"):\n",
    "    optimizer = tf.train.MomentumOptimizer(learning_rate=0.01, momentum=0.9)\n",
    "    training_op = optimizer.minimize(loss)\n",
    "    \n",
    "with tf.name_scope(\"eval\"):\n",
    "    correct = tf.nn.in_top_k(logits, y, 1)\n",
    "    accuracy = tf.reduce_mean(tf.cast(correct, tf.float32))\n",
    "    \n",
    "init = tf.global_variables_initializer()\n",
    "saver = tf.train.Saver()"
   ]
  },
  {
   "cell_type": "code",
   "execution_count": 49,
   "metadata": {},
   "outputs": [
    {
     "name": "stdout",
     "output_type": "stream",
     "text": [
      "0 Train loss: 0.15265729 Train accuracy: 0.96 Progress counter: 0\n",
      "1 Train loss: 0.09876662 Train accuracy: 0.96 Progress counter: 0\n",
      "2 Train loss: 0.10460229 Train accuracy: 0.96 Progress counter: 1\n",
      "3 Train loss: 0.08156348 Train accuracy: 0.96 Progress counter: 0\n",
      "4 Train loss: 0.07352918 Train accuracy: 0.98 Progress counter: 0\n",
      "5 Train loss: 0.07661027 Train accuracy: 0.98 Progress counter: 1\n",
      "6 Train loss: 0.070110135 Train accuracy: 1.0 Progress counter: 0\n",
      "7 Train loss: 0.06719338 Train accuracy: 1.0 Progress counter: 0\n",
      "8 Train loss: 0.06743479 Train accuracy: 1.0 Progress counter: 1\n",
      "9 Train loss: 0.07059888 Train accuracy: 0.98 Progress counter: 2\n",
      "10 Train loss: 0.067605875 Train accuracy: 0.98 Progress counter: 3\n",
      "11 Train loss: 0.06458283 Train accuracy: 1.0 Progress counter: 0\n",
      "12 Train loss: 0.07114663 Train accuracy: 1.0 Progress counter: 1\n",
      "13 Train loss: 0.06873541 Train accuracy: 1.0 Progress counter: 2\n",
      "14 Train loss: 0.068793885 Train accuracy: 1.0 Progress counter: 3\n",
      "15 Train loss: 0.068291396 Train accuracy: 1.0 Progress counter: 4\n",
      "16 Train loss: 0.07157999 Train accuracy: 1.0 Progress counter: 5\n",
      "17 Train loss: 0.071795985 Train accuracy: 1.0 Progress counter: 6\n",
      "18 Train loss: 0.07113265 Train accuracy: 1.0 Progress counter: 7\n",
      "19 Train loss: 0.071601845 Train accuracy: 1.0 Progress counter: 8\n",
      "20 Train loss: 0.073269345 Train accuracy: 1.0 Progress counter: 9\n",
      "21 Train loss: 0.073566146 Train accuracy: 1.0 Progress counter: 10\n",
      "22 Train loss: 0.07372981 Train accuracy: 1.0 Progress counter: 11\n",
      "23 Train loss: 0.07494746 Train accuracy: 1.0 Progress counter: 12\n",
      "24 Train loss: 0.0751995 Train accuracy: 1.0 Progress counter: 13\n",
      "25 Train loss: 0.0765584 Train accuracy: 1.0 Progress counter: 14\n",
      "26 Train loss: 0.075271994 Train accuracy: 1.0 Progress counter: 15\n",
      "27 Train loss: 0.075752616 Train accuracy: 1.0 Progress counter: 16\n",
      "28 Train loss: 0.07608611 Train accuracy: 1.0 Progress counter: 17\n",
      "29 Train loss: 0.07710765 Train accuracy: 1.0 Progress counter: 18\n",
      "30 Train loss: 0.07742176 Train accuracy: 1.0 Progress counter: 19\n",
      "31 Train loss: 0.077901244 Train accuracy: 1.0 Progress counter: 20\n",
      "32 Train loss: 0.07790801 Train accuracy: 1.0 Progress counter: 21\n",
      "33 Train loss: 0.07837654 Train accuracy: 1.0 Progress counter: 22\n",
      "34 Train loss: 0.078562066 Train accuracy: 1.0 Progress counter: 23\n",
      "35 Train loss: 0.07951211 Train accuracy: 1.0 Progress counter: 24\n",
      "36 Train loss: 0.07979959 Train accuracy: 1.0 Progress counter: 25\n",
      "37 Train loss: 0.08008921 Train accuracy: 1.0 Progress counter: 26\n",
      "38 Train loss: 0.07982268 Train accuracy: 1.0 Progress counter: 27\n",
      "39 Train loss: 0.08070471 Train accuracy: 1.0 Progress counter: 28\n",
      "40 Train loss: 0.08044364 Train accuracy: 1.0 Progress counter: 29\n",
      "41 Train loss: 0.08072065 Train accuracy: 1.0 Progress counter: 30\n",
      "42 Train loss: 0.081155874 Train accuracy: 1.0 Progress counter: 31\n",
      "43 Train loss: 0.08117622 Train accuracy: 1.0 Progress counter: 32\n",
      "44 Train loss: 0.08184201 Train accuracy: 1.0 Progress counter: 33\n",
      "45 Train loss: 0.08197465 Train accuracy: 1.0 Progress counter: 34\n",
      "46 Train loss: 0.08215756 Train accuracy: 1.0 Progress counter: 35\n",
      "47 Train loss: 0.082498245 Train accuracy: 1.0 Progress counter: 36\n",
      "48 Train loss: 0.082650825 Train accuracy: 1.0 Progress counter: 37\n",
      "49 Train loss: 0.082949564 Train accuracy: 1.0 Progress counter: 38\n",
      "50 Train loss: 0.08333529 Train accuracy: 1.0 Progress counter: 39\n",
      "51 Train loss: 0.08336925 Train accuracy: 1.0 Progress counter: 40\n",
      "52 Train loss: 0.08351374 Train accuracy: 1.0 Progress counter: 41\n",
      "53 Train loss: 0.08440803 Train accuracy: 1.0 Progress counter: 42\n",
      "54 Train loss: 0.08387919 Train accuracy: 1.0 Progress counter: 43\n",
      "55 Train loss: 0.08427163 Train accuracy: 1.0 Progress counter: 44\n",
      "56 Train loss: 0.08430565 Train accuracy: 1.0 Progress counter: 45\n",
      "57 Train loss: 0.08469407 Train accuracy: 1.0 Progress counter: 46\n",
      "58 Train loss: 0.08507777 Train accuracy: 1.0 Progress counter: 47\n",
      "59 Train loss: 0.085199855 Train accuracy: 1.0 Progress counter: 48\n",
      "60 Train loss: 0.08483879 Train accuracy: 1.0 Progress counter: 49\n",
      "61 Train loss: 0.08539292 Train accuracy: 1.0 Progress counter: 50\n"
     ]
    }
   ],
   "source": [
    "batch_size = 50\n",
    "\n",
    "finish = False\n",
    "no_progress_counter = 0\n",
    "minimum_error = 1\n",
    "epoch = 0\n",
    "\n",
    "with tf.Session() as sess:\n",
    "    init.run()\n",
    "    while finish == False:\n",
    "        for X_batch, y_batch in shuffle_batch(X_train, y_train, batch_size):\n",
    "            sess.run(training_op, feed_dict={X: X_batch, y: y_batch})\n",
    "        acc_train = accuracy.eval(feed_dict={X: X_batch, y: y_batch})\n",
    "        acc_test = accuracy.eval(feed_dict={X: X_valid, y: y_valid})\n",
    "        error = loss.eval(feed_dict={X: X_valid, y: y_valid})\n",
    "        if minimum_error > error:\n",
    "            minimum_error = error\n",
    "            no_progress_counter = 0\n",
    "        else:\n",
    "            no_progress_counter += 1\n",
    "            if no_progress_counter >= 50 and acc_train >= 0.98: finish = True\n",
    "        print(epoch, 'Train loss:', error, 'Train accuracy:', acc_train, 'Progress counter:', no_progress_counter)\n",
    "        epoch += 1\n",
    "    save_path = saver.save(sess, \"./my_model_finalv1.ckpt\")"
   ]
  },
  {
   "cell_type": "code",
   "execution_count": 50,
   "metadata": {},
   "outputs": [
    {
     "name": "stdout",
     "output_type": "stream",
     "text": [
      "INFO:tensorflow:Restoring parameters from ./my_model_finalv1.ckpt\n"
     ]
    }
   ],
   "source": [
    "with tf.Session() as sess:\n",
    "    saver.restore(sess, \"./my_model_finalv1.ckpt\") # or better, use save_path\n",
    "    X_new_scaled = X_test[:20]\n",
    "    Z = logits.eval(feed_dict={X: X_new_scaled})\n",
    "    y_pred = np.argmax(Z, axis=1)"
   ]
  },
  {
   "cell_type": "code",
   "execution_count": 51,
   "metadata": {},
   "outputs": [
    {
     "name": "stdout",
     "output_type": "stream",
     "text": [
      "Predicted classes: [7 2 1 0 4 1 4 9 5 9 0 6 9 0 1 5 9 7 3 4]\n",
      "Actual classes:    [7 2 1 0 4 1 4 9 5 9 0 6 9 0 1 5 9 7 3 4]\n"
     ]
    }
   ],
   "source": [
    "print(\"Predicted classes:\", y_pred)\n",
    "print(\"Actual classes:   \", y_test[:20])"
   ]
  },
  {
   "cell_type": "code",
   "execution_count": null,
   "metadata": {},
   "outputs": [],
   "source": []
  }
 ],
 "metadata": {
  "kernelspec": {
   "display_name": "Python 3",
   "language": "python",
   "name": "python3"
  },
  "language_info": {
   "codemirror_mode": {
    "name": "ipython",
    "version": 3
   },
   "file_extension": ".py",
   "mimetype": "text/x-python",
   "name": "python",
   "nbconvert_exporter": "python",
   "pygments_lexer": "ipython3",
   "version": "3.7.4"
  }
 },
 "nbformat": 4,
 "nbformat_minor": 2
}
