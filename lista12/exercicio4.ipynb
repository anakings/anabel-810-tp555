{
 "cells": [
  {
   "cell_type": "markdown",
   "metadata": {},
   "source": [
    "## Se você deseja classificar emails em spam ou ham, precisa de um neurônio na camada de saída e deve usar sigmoid como função de ativação.\n",
    "## Se você deseja classificar a base de dados MNIST (imagens de dígitos escritos à mão), precisa de 10 neurônios na camada de saída sem função de ativação"
   ]
  }
 ],
 "metadata": {
  "kernelspec": {
   "display_name": "Python 3",
   "language": "python",
   "name": "python3"
  },
  "language_info": {
   "codemirror_mode": {
    "name": "ipython",
    "version": 3
   },
   "file_extension": ".py",
   "mimetype": "text/x-python",
   "name": "python",
   "nbconvert_exporter": "python",
   "pygments_lexer": "ipython3",
   "version": "3.7.4"
  }
 },
 "nbformat": 4,
 "nbformat_minor": 2
}
