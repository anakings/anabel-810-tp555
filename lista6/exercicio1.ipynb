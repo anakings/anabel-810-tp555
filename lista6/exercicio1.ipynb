{
 "cells": [
  {
   "cell_type": "code",
   "execution_count": 159,
   "metadata": {},
   "outputs": [],
   "source": [
    "# Import all necessary libraries.\n",
    "import numpy as np\n",
    "import matplotlib.pyplot as plt\n",
    "from sklearn.neighbors import KNeighborsClassifier"
   ]
  },
  {
   "cell_type": "code",
   "execution_count": 160,
   "metadata": {},
   "outputs": [
    {
     "data": {
      "image/png": "[encoded data removed]",
      "text/plain": [
       "<Figure size 360x360 with 1 Axes>"
      ]
     },
     "metadata": {
      "needs_background": "light"
     },
     "output_type": "display_data"
    }
   ],
   "source": [
    "x1 = np.array([4,5,3,6,6,7,8,10,12])\n",
    "x2 = np.array([7,6,4,9,4,6,0,10,3])\n",
    "y = np.array([0,0,0,0,1,1,1,1,1])\n",
    "x1test = 6\n",
    "x2test = 5\n",
    "\n",
    "idx0 = np.argwhere(y == 0)\n",
    "idx1 = np.argwhere(y == 1)\n",
    "\n",
    "fig = plt.figure(figsize=(5,5))\n",
    "plt.plot(x1[idx0], x2[idx0], '.', label='Class 0')\n",
    "plt.plot(x1[idx1], x2[idx1], 'rx', label='Class 1')\n",
    "plt.xlabel('$x_1$', fontsize=14)\n",
    "plt.ylabel('$x_2$', fontsize=14)\n",
    "plt.legend()\n",
    "plt.savefig('knn_for_two_classes.png', dpi=600)\n",
    "plt.show()"
   ]
  },
  {
   "cell_type": "code",
   "execution_count": 161,
   "metadata": {},
   "outputs": [
    {
     "name": "stdout",
     "output_type": "stream",
     "text": [
      "Classificacao sem sklearn\n",
      "Quando k=3 a amostra de validação pertence a classe 1\n",
      "Quando k=5 a amostra de validação pertence a classe 1\n"
     ]
    }
   ],
   "source": [
    "def k_NN(y, euclidianaList, k):\n",
    "    copy = euclidianaList.copy()\n",
    "    k1 = 0\n",
    "    \n",
    "    sum0 = 0\n",
    "    sum1 = 0\n",
    "    while k1 != k:\n",
    "        # Get the minimum element from a Numpy array\n",
    "        minElement = np.amin(copy)\n",
    "    \n",
    "        # Get the minimum element's index from a Numpy array\n",
    "        result = np.where(euclidianaList == minElement)\n",
    "        # Contribution from nearest neighbors\n",
    "        for i in range(0,len(result[0])):\n",
    "            if y[result[0][i]] == 0: sum0 = sum0 + 1/(minElement)\n",
    "            else: sum1 = sum1 + 1/(minElement)\n",
    "            \n",
    "            # Remove the minimum element from a Numpy array\n",
    "            copy.remove(minElement)\n",
    "            k1 += 1\n",
    "\n",
    "    if sum0 >= sum1: y = 0\n",
    "    else: y = 1\n",
    "\n",
    "    print('Quando k=' + str(k) + ' a amostra de validação pertence a classe ' + str(y))   \n",
    "#-------------------------------------------------------------------------------------------------------------------------------\n",
    "p = 2\n",
    "\n",
    "euclidianaList = []\n",
    "plus = 0\n",
    "for i in range(0,len(x1)):\n",
    "    euclidiana = (abs(x1[i]-x1test)**p + abs(x2[i]-x2test)**p)**(1/p)\n",
    "    euclidianaList.append(euclidiana)\n",
    "\n",
    "print('Classificacao sem sklearn')\n",
    "y3 = k_NN(y, euclidianaList, 3)\n",
    "y5 = k_NN(y, euclidianaList, 5)"
   ]
  },
  {
   "cell_type": "code",
   "execution_count": 162,
   "metadata": {},
   "outputs": [
    {
     "name": "stdout",
     "output_type": "stream",
     "text": [
      "Classificacao com sklearn\n",
      "Quando k=3 a amostra de validação pertence a classe 1\n",
      "Quando k=5 a amostra de validação pertence a classe 1\n"
     ]
    }
   ],
   "source": [
    "print('Classificacao com sklearn')\n",
    "X = np.c_[x1, x2]\n",
    "X_test = np.c_[x1test, x2test]\n",
    "for k in [3, 5]:\n",
    "    # Create an instance of Neighbours Classifier and fit the data.\n",
    "    clf = KNeighborsClassifier(k, weights='distance')\n",
    "    # Train the classifier.\n",
    "    clf.fit(X, y)\n",
    "    ytest = clf.predict(X_test)\n",
    "    print('Quando k=' + str(k) + ' a amostra de validação pertence a classe ' + str(ytest[0])) "
   ]
  },
  {
   "cell_type": "code",
   "execution_count": null,
   "metadata": {},
   "outputs": [],
   "source": []
  }
 ],
 "metadata": {
  "kernelspec": {
   "display_name": "Python 3",
   "language": "python",
   "name": "python3"
  },
  "language_info": {
   "codemirror_mode": {
    "name": "ipython",
    "version": 3
   },
   "file_extension": ".py",
   "mimetype": "text/x-python",
   "name": "python",
   "nbconvert_exporter": "python",
   "pygments_lexer": "ipython3",
   "version": "3.7.4"
  }
 },
 "nbformat": 4,
 "nbformat_minor": 2
}
