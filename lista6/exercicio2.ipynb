{
 "cells": [
  {
   "cell_type": "code",
   "execution_count": 1,
   "metadata": {
    "collapsed": false
   },
   "outputs": [
   ],
   "source": [
    "# Import all necessary libraries.\n",
    "import matplotlib.pyplot as plt\n",
    "from sklearn.datasets import load_digits\n",
    "from sklearn.model_selection import train_test_split\n",
    "from sklearn.neighbors import KNeighborsClassifier\n",
    "from sklearn.model_selection import GridSearchCV\n",
    "from sklearn.metrics import confusion_matrix, accuracy_score, classification_report\n",
    "import seaborn as sns"
   ]
  },
  {
   "cell_type": "code",
   "execution_count": 2,
   "metadata": {
    "collapsed": false
   },
   "outputs": [
    {
     "data": {
      "image/png": "[encoded data removed]",
      "text/plain": [
       "<Figure size 1440x360 with 10 Axes>"
      ]
     },
     "execution_count": 2,
     "metadata": {
      "image/png": {
       "height": 140,
       "width": 1143
      },
      "needs_background": "light"
     },
     "output_type": "execute_result"
    }
   ],
   "source": [
    "# Load the digits dataset.\n",
    "digits = load_digits()\n",
    "\n",
    "# Plot some digits from the data-set.\n",
    "plt.figure(figsize=(20, 5))\n",
    "for i in range(0,10):\n",
    "    ax = plt.subplot(1, 10, i+1)\n",
    "    plt.imshow(digits.images[i], cmap=plt.cm.gray_r, interpolation='nearest')\n",
    "    plt.title('Training: %i' % digits.target[i])\n",
    "plt.show()\n",
    "\n",
    "# To apply a classifier on this data, we need to flatten the image, to turn the data in a (samples, feature) matrix:\n",
    "n_samples = len(digits.images)\n",
    "data = digits.images.reshape((n_samples, -1))\n",
    "\n",
    "# Split data into train and test subsets.\n",
    "x_train, x_test, y_train, y_test = train_test_split(data, digits.target, test_size=0.2, shuffle=False)"
   ]
  },
  {
   "cell_type": "code",
   "execution_count": 3,
   "metadata": {
    "collapsed": false
   },
   "outputs": [
    {
     "name": "stdout",
     "output_type": "stream",
     "text": [
      "{'n_neighbors': [1, 2, 3, 4, 5, 10, 15, 20], 'weights': ('uniform', 'distance')}\n",
      "Fitting 5 folds for each of 16 candidates, totalling 80 fits\n",
      "[CV] n_neighbors=1, weights=uniform ..................................\n",
      "[CV] ...... n_neighbors=1, weights=uniform, score=0.961, total=   0.1s\n",
      "[CV] n_neighbors=1, weights=uniform ..................................\n"
     ]
    },
    {
     "name": "stderr",
     "output_type": "stream",
     "text": [
      "[Parallel(n_jobs=-1)]: Using backend SequentialBackend with 1 concurrent workers.\n",
      "[Parallel(n_jobs=-1)]: Done   1 out of   1 | elapsed:    0.1s remaining:    0.0s\n"
     ]
    },
    {
     "name": "stdout",
     "output_type": "stream",
     "text": [
      "[CV] ...... n_neighbors=1, weights=uniform, score=0.953, total=   0.1s\n",
      "[CV] n_neighbors=1, weights=uniform ..................................\n",
      "[CV] ...... n_neighbors=1, weights=uniform, score=0.967, total=   0.1s\n",
      "[CV] n_neighbors=1, weights=uniform ..................................\n"
     ]
    },
    {
     "name": "stderr",
     "output_type": "stream",
     "text": [
      "[Parallel(n_jobs=-1)]: Done   2 out of   2 | elapsed:    0.2s remaining:    0.0s\n"
     ]
    },
    {
     "name": "stdout",
     "output_type": "stream",
     "text": [
      "[CV] ...... n_neighbors=1, weights=uniform, score=0.986, total=   0.1s\n",
      "[CV] n_neighbors=1, weights=uniform ..................................\n",
      "[CV] ...... n_neighbors=1, weights=uniform, score=0.955, total=   0.2s\n",
      "[CV] n_neighbors=1, weights=distance .................................\n"
     ]
    },
    {
     "name": "stdout",
     "output_type": "stream",
     "text": [
      "[CV] ..... n_neighbors=1, weights=distance, score=0.961, total=   0.1s\n",
      "[CV] n_neighbors=1, weights=distance .................................\n",
      "[CV] ..... n_neighbors=1, weights=distance, score=0.953, total=   0.1s\n",
      "[CV] n_neighbors=1, weights=distance .................................\n",
      "[CV] ..... n_neighbors=1, weights=distance, score=0.967, total=   0.1s\n",
      "[CV] n_neighbors=1, weights=distance .................................\n"
     ]
    },
    {
     "name": "stdout",
     "output_type": "stream",
     "text": [
      "[CV] ..... n_neighbors=1, weights=distance, score=0.986, total=   0.1s\n",
      "[CV] n_neighbors=1, weights=distance .................................\n",
      "[CV] ..... n_neighbors=1, weights=distance, score=0.955, total=   0.1s\n",
      "[CV] n_neighbors=2, weights=uniform ..................................\n"
     ]
    },
    {
     "name": "stdout",
     "output_type": "stream",
     "text": [
      "[CV] ...... n_neighbors=2, weights=uniform, score=0.961, total=   0.1s\n",
      "[CV] n_neighbors=2, weights=uniform ..................................\n",
      "[CV] ...... n_neighbors=2, weights=uniform, score=0.967, total=   0.1s\n",
      "[CV] n_neighbors=2, weights=uniform ..................................\n"
     ]
    },
    {
     "name": "stdout",
     "output_type": "stream",
     "text": [
      "[CV] ...... n_neighbors=2, weights=uniform, score=0.969, total=   0.1s\n",
      "[CV] n_neighbors=2, weights=uniform ..................................\n",
      "[CV] ...... n_neighbors=2, weights=uniform, score=0.978, total=   0.1s\n",
      "[CV] n_neighbors=2, weights=uniform ..................................\n",
      "[CV] ...... n_neighbors=2, weights=uniform, score=0.961, total=   0.1s\n",
      "[CV] n_neighbors=2, weights=distance .................................\n"
     ]
    },
    {
     "name": "stdout",
     "output_type": "stream",
     "text": [
      "[CV] ..... n_neighbors=2, weights=distance, score=0.961, total=   0.1s\n",
      "[CV] n_neighbors=2, weights=distance .................................\n",
      "[CV] ..... n_neighbors=2, weights=distance, score=0.953, total=   0.1s\n",
      "[CV] n_neighbors=2, weights=distance .................................\n",
      "[CV] ..... n_neighbors=2, weights=distance, score=0.967, total=   0.1s\n",
      "[CV] n_neighbors=2, weights=distance .................................\n"
     ]
    },
    {
     "name": "stdout",
     "output_type": "stream",
     "text": [
      "[CV] ..... n_neighbors=2, weights=distance, score=0.986, total=   0.1s\n",
      "[CV] n_neighbors=2, weights=distance .................................\n",
      "[CV] ..... n_neighbors=2, weights=distance, score=0.955, total=   0.1s\n",
      "[CV] n_neighbors=3, weights=uniform ..................................\n",
      "[CV] ...... n_neighbors=3, weights=uniform, score=0.956, total=   0.1s\n",
      "[CV] n_neighbors=3, weights=uniform ..................................\n"
     ]
    },
    {
     "name": "stdout",
     "output_type": "stream",
     "text": [
      "[CV] ...... n_neighbors=3, weights=uniform, score=0.958, total=   0.1s\n",
      "[CV] n_neighbors=3, weights=uniform ..................................\n",
      "[CV] ...... n_neighbors=3, weights=uniform, score=0.967, total=   0.1s\n",
      "[CV] n_neighbors=3, weights=uniform ..................................\n",
      "[CV] ...... n_neighbors=3, weights=uniform, score=0.983, total=   0.1s\n",
      "[CV] n_neighbors=3, weights=uniform ..................................\n"
     ]
    },
    {
     "name": "stdout",
     "output_type": "stream",
     "text": [
      "[CV] ...... n_neighbors=3, weights=uniform, score=0.967, total=   0.1s\n",
      "[CV] n_neighbors=3, weights=distance .................................\n",
      "[CV] ..... n_neighbors=3, weights=distance, score=0.956, total=   0.1s\n",
      "[CV] n_neighbors=3, weights=distance .................................\n",
      "[CV] ..... n_neighbors=3, weights=distance, score=0.958, total=   0.1s\n",
      "[CV] n_neighbors=3, weights=distance .................................\n"
     ]
    },
    {
     "name": "stdout",
     "output_type": "stream",
     "text": [
      "[CV] ..... n_neighbors=3, weights=distance, score=0.969, total=   0.1s\n",
      "[CV] n_neighbors=3, weights=distance .................................\n",
      "[CV] ..... n_neighbors=3, weights=distance, score=0.986, total=   0.1s\n",
      "[CV] n_neighbors=3, weights=distance .................................\n",
      "[CV] ..... n_neighbors=3, weights=distance, score=0.961, total=   0.1s\n",
      "[CV] n_neighbors=4, weights=uniform ..................................\n"
     ]
    },
    {
     "name": "stdout",
     "output_type": "stream",
     "text": [
      "[CV] ...... n_neighbors=4, weights=uniform, score=0.947, total=   0.1s\n",
      "[CV] n_neighbors=4, weights=uniform ..................................\n",
      "[CV] ...... n_neighbors=4, weights=uniform, score=0.958, total=   0.1s\n",
      "[CV] n_neighbors=4, weights=uniform ..................................\n",
      "[CV] ...... n_neighbors=4, weights=uniform, score=0.967, total=   0.1s\n",
      "[CV] n_neighbors=4, weights=uniform ..................................\n"
     ]
    },
    {
     "name": "stdout",
     "output_type": "stream",
     "text": [
      "[CV] ...... n_neighbors=4, weights=uniform, score=0.981, total=   0.1s\n",
      "[CV] n_neighbors=4, weights=uniform ..................................\n",
      "[CV] ...... n_neighbors=4, weights=uniform, score=0.967, total=   0.1s\n",
      "[CV] n_neighbors=4, weights=distance .................................\n",
      "[CV] ..... n_neighbors=4, weights=distance, score=0.958, total=   0.1s\n",
      "[CV] n_neighbors=4, weights=distance .................................\n"
     ]
    },
    {
     "name": "stdout",
     "output_type": "stream",
     "text": [
      "[CV] ..... n_neighbors=4, weights=distance, score=0.964, total=   0.1s\n",
      "[CV] n_neighbors=4, weights=distance .................................\n",
      "[CV] ..... n_neighbors=4, weights=distance, score=0.964, total=   0.1s\n",
      "[CV] n_neighbors=4, weights=distance .................................\n",
      "[CV] ..... n_neighbors=4, weights=distance, score=0.983, total=   0.1s\n",
      "[CV] n_neighbors=4, weights=distance .................................\n"
     ]
    },
    {
     "name": "stdout",
     "output_type": "stream",
     "text": [
      "[CV] ..... n_neighbors=4, weights=distance, score=0.967, total=   0.1s\n",
      "[CV] n_neighbors=5, weights=uniform ..................................\n",
      "[CV] ...... n_neighbors=5, weights=uniform, score=0.947, total=   0.1s\n",
      "[CV] n_neighbors=5, weights=uniform ..................................\n",
      "[CV] ...... n_neighbors=5, weights=uniform, score=0.956, total=   0.1s\n",
      "[CV] n_neighbors=5, weights=uniform ..................................\n"
     ]
    },
    {
     "name": "stdout",
     "output_type": "stream",
     "text": [
      "[CV] ...... n_neighbors=5, weights=uniform, score=0.967, total=   0.1s\n",
      "[CV] n_neighbors=5, weights=uniform ..................................\n",
      "[CV] ...... n_neighbors=5, weights=uniform, score=0.981, total=   0.1s\n",
      "[CV] n_neighbors=5, weights=uniform ..................................\n",
      "[CV] ...... n_neighbors=5, weights=uniform, score=0.964, total=   0.1s\n",
      "[CV] n_neighbors=5, weights=distance .................................\n"
     ]
    },
    {
     "name": "stdout",
     "output_type": "stream",
     "text": [
      "[CV] ..... n_neighbors=5, weights=distance, score=0.953, total=   0.1s\n",
      "[CV] n_neighbors=5, weights=distance .................................\n",
      "[CV] ..... n_neighbors=5, weights=distance, score=0.956, total=   0.1s\n",
      "[CV] n_neighbors=5, weights=distance .................................\n"
     ]
    },
    {
     "name": "stdout",
     "output_type": "stream",
     "text": [
      "[CV] ..... n_neighbors=5, weights=distance, score=0.967, total=   0.1s\n",
      "[CV] n_neighbors=5, weights=distance .................................\n",
      "[CV] ..... n_neighbors=5, weights=distance, score=0.981, total=   0.1s\n",
      "[CV] n_neighbors=5, weights=distance .................................\n",
      "[CV] ..... n_neighbors=5, weights=distance, score=0.961, total=   0.1s\n",
      "[CV] n_neighbors=10, weights=uniform .................................\n"
     ]
    },
    {
     "name": "stdout",
     "output_type": "stream",
     "text": [
      "[CV] ..... n_neighbors=10, weights=uniform, score=0.931, total=   0.1s\n",
      "[CV] n_neighbors=10, weights=uniform .................................\n",
      "[CV] ..... n_neighbors=10, weights=uniform, score=0.947, total=   0.1s\n",
      "[CV] n_neighbors=10, weights=uniform .................................\n",
      "[CV] ..... n_neighbors=10, weights=uniform, score=0.969, total=   0.1s\n",
      "[CV] n_neighbors=10, weights=uniform .................................\n"
     ]
    },
    {
     "name": "stdout",
     "output_type": "stream",
     "text": [
      "[CV] ..... n_neighbors=10, weights=uniform, score=0.978, total=   0.1s\n",
      "[CV] n_neighbors=10, weights=uniform .................................\n",
      "[CV] ..... n_neighbors=10, weights=uniform, score=0.950, total=   0.1s\n",
      "[CV] n_neighbors=10, weights=distance ................................\n",
      "[CV] .... n_neighbors=10, weights=distance, score=0.936, total=   0.1s\n",
      "[CV] n_neighbors=10, weights=distance ................................\n"
     ]
    },
    {
     "name": "stdout",
     "output_type": "stream",
     "text": [
      "[CV] .... n_neighbors=10, weights=distance, score=0.953, total=   0.1s\n",
      "[CV] n_neighbors=10, weights=distance ................................\n",
      "[CV] .... n_neighbors=10, weights=distance, score=0.975, total=   0.1s\n",
      "[CV] n_neighbors=10, weights=distance ................................\n"
     ]
    },
    {
     "name": "stdout",
     "output_type": "stream",
     "text": [
      "[CV] .... n_neighbors=10, weights=distance, score=0.978, total=   0.1s\n",
      "[CV] n_neighbors=10, weights=distance ................................\n",
      "[CV] .... n_neighbors=10, weights=distance, score=0.953, total=   0.1s\n",
      "[CV] n_neighbors=15, weights=uniform .................................\n"
     ]
    },
    {
     "name": "stdout",
     "output_type": "stream",
     "text": [
      "[CV] ..... n_neighbors=15, weights=uniform, score=0.933, total=   0.1s\n",
      "[CV] n_neighbors=15, weights=uniform .................................\n",
      "[CV] ..... n_neighbors=15, weights=uniform, score=0.950, total=   0.1s\n",
      "[CV] n_neighbors=15, weights=uniform .................................\n"
     ]
    },
    {
     "name": "stdout",
     "output_type": "stream",
     "text": [
      "[CV] ..... n_neighbors=15, weights=uniform, score=0.969, total=   0.1s\n",
      "[CV] n_neighbors=15, weights=uniform .................................\n",
      "[CV] ..... n_neighbors=15, weights=uniform, score=0.972, total=   0.1s\n",
      "[CV] n_neighbors=15, weights=uniform .................................\n"
     ]
    },
    {
     "name": "stdout",
     "output_type": "stream",
     "text": [
      "[CV] ..... n_neighbors=15, weights=uniform, score=0.947, total=   0.1s\n",
      "[CV] n_neighbors=15, weights=distance ................................\n",
      "[CV] .... n_neighbors=15, weights=distance, score=0.936, total=   0.1s\n",
      "[CV] n_neighbors=15, weights=distance ................................\n"
     ]
    },
    {
     "name": "stdout",
     "output_type": "stream",
     "text": [
      "[CV] .... n_neighbors=15, weights=distance, score=0.953, total=   0.1s\n",
      "[CV] n_neighbors=15, weights=distance ................................\n",
      "[CV] .... n_neighbors=15, weights=distance, score=0.969, total=   0.1s\n",
      "[CV] n_neighbors=15, weights=distance ................................\n",
      "[CV] .... n_neighbors=15, weights=distance, score=0.975, total=   0.1s\n",
      "[CV] n_neighbors=15, weights=distance ................................\n"
     ]
    },
    {
     "name": "stdout",
     "output_type": "stream",
     "text": [
      "[CV] .... n_neighbors=15, weights=distance, score=0.947, total=   0.1s\n",
      "[CV] n_neighbors=20, weights=uniform .................................\n",
      "[CV] ..... n_neighbors=20, weights=uniform, score=0.925, total=   0.1s\n",
      "[CV] n_neighbors=20, weights=uniform .................................\n",
      "[CV] ..... n_neighbors=20, weights=uniform, score=0.953, total=   0.1s\n",
      "[CV] n_neighbors=20, weights=uniform .................................\n"
     ]
    },
    {
     "name": "stdout",
     "output_type": "stream",
     "text": [
      "[CV] ..... n_neighbors=20, weights=uniform, score=0.967, total=   0.1s\n",
      "[CV] n_neighbors=20, weights=uniform .................................\n",
      "[CV] ..... n_neighbors=20, weights=uniform, score=0.961, total=   0.1s\n",
      "[CV] n_neighbors=20, weights=uniform .................................\n",
      "[CV] ..... n_neighbors=20, weights=uniform, score=0.944, total=   0.1s\n",
      "[CV] n_neighbors=20, weights=distance ................................\n"
     ]
    },
    {
     "name": "stdout",
     "output_type": "stream",
     "text": [
      "[CV] .... n_neighbors=20, weights=distance, score=0.933, total=   0.1s\n",
      "[CV] n_neighbors=20, weights=distance ................................\n",
      "[CV] .... n_neighbors=20, weights=distance, score=0.953, total=   0.1s\n",
      "[CV] n_neighbors=20, weights=distance ................................\n",
      "[CV] .... n_neighbors=20, weights=distance, score=0.969, total=   0.1s\n",
      "[CV] n_neighbors=20, weights=distance ................................\n"
     ]
    },
    {
     "name": "stdout",
     "output_type": "stream",
     "text": [
      "[CV] .... n_neighbors=20, weights=distance, score=0.969, total=   0.1s\n",
      "[CV] n_neighbors=20, weights=distance ................................\n",
      "[CV] .... n_neighbors=20, weights=distance, score=0.947, total=   0.1s\n"
     ]
    },
    {
     "name": "stderr",
     "output_type": "stream",
     "text": [
      "[Parallel(n_jobs=-1)]: Done  80 out of  80 | elapsed:    8.0s finished\n"
     ]
    },
    {
     "data": {
      "text/plain": [
       "0.9671742494583719"
      ]
     },
     "execution_count": 3,
     "metadata": {
     },
     "output_type": "execute_result"
    }
   ],
   "source": [
    "knc = KNeighborsClassifier()\n",
    "parameters = {'n_neighbors' :[ 1 , 2, 3, 4, 5, 10, 15, 20 ], 'weights':('uniform', 'distance')}\n",
    "print(parameters)\n",
    "clf = GridSearchCV(knc, parameters, cv=5, verbose=3, n_jobs=-1)\n",
    "\n",
    "clf.fit(data, digits.target)\n",
    "clf.best_params_\n",
    "clf.best_score_"
   ]
  },
  {
   "cell_type": "code",
   "execution_count": 4,
   "metadata": {
    "collapsed": false
   },
   "outputs": [
    {
     "name": "stdout",
     "output_type": "stream",
     "text": [
      "Accuracy of model is: 100.0 %\n"
     ]
    }
   ],
   "source": [
    "# Predict.\n",
    "y_pred = clf.predict(x_test)\n",
    "print('Accuracy of model is:', accuracy_score(y_test, y_pred)*100, '%')"
   ]
  },
  {
   "cell_type": "code",
   "execution_count": 5,
   "metadata": {
    "collapsed": false
   },
   "outputs": [
    {
     "data": {
      "image/png": "[encoded data removed]",
      "text/plain": [
       "<Figure size 720x720 with 1 Axes>"
      ]
     },
     "execution_count": 5,
     "metadata": {
      "image/png": {
       "height": 593,
       "width": 592
      },
      "needs_background": "light"
     },
     "output_type": "execute_result"
    }
   ],
   "source": [
    "# Plot the confusion matrix.\n",
    "fig = plt.figure(figsize=(10,10))\n",
    "mat = confusion_matrix(y_test, y_pred)\n",
    "sns.set()\n",
    "sns.heatmap(mat.T, square=True, annot=True, fmt='d', cbar=False, xticklabels=['0','1'], yticklabels=['0','1'], cmap=\"Blues\")\n",
    "plt.xlabel('true label')\n",
    "plt.ylabel('predicted label')\n",
    "plt.savefig('confusion_matrix.png', dpi=600)\n",
    "plt.show()"
   ]
  },
  {
   "cell_type": "code",
   "execution_count": 6,
   "metadata": {
    "collapsed": false
   },
   "outputs": [
    {
     "name": "stdout",
     "output_type": "stream",
     "text": [
      "              precision    recall  f1-score   support\n",
      "\n",
      "           0       1.00      1.00      1.00        35\n",
      "           1       1.00      1.00      1.00        36\n",
      "           2       1.00      1.00      1.00        35\n",
      "           3       1.00      1.00      1.00        37\n",
      "           4       1.00      1.00      1.00        37\n",
      "           5       1.00      1.00      1.00        37\n",
      "           6       1.00      1.00      1.00        37\n",
      "           7       1.00      1.00      1.00        36\n",
      "           8       1.00      1.00      1.00        33\n",
      "           9       1.00      1.00      1.00        37\n",
      "\n",
      "    accuracy                           1.00       360\n",
      "   macro avg       1.00      1.00      1.00       360\n",
      "weighted avg       1.00      1.00      1.00       360\n",
      "\n"
     ]
    }
   ],
   "source": [
    "# Print classification report.\n",
    "print(classification_report(y_test, y_pred))"
   ]
  },
  {
   "cell_type": "code",
   "execution_count": 0,
   "metadata": {
    "collapsed": false
   },
   "outputs": [
   ],
   "source": [
   ]
  }
 ],
 "metadata": {
  "kernelspec": {
   "display_name": "Python 3 (system-wide)",
   "language": "python",
   "metadata": {
    "cocalc": {
     "description": "Python 3 programming language",
     "priority": 100,
     "url": "https://www.python.org/"
    }
   },
   "name": "python3"
  },
  "language_info": {
   "codemirror_mode": {
    "name": "ipython",
    "version": 3
   },
   "file_extension": ".py",
   "mimetype": "text/x-python",
   "name": "python",
   "nbconvert_exporter": "python",
   "pygments_lexer": "ipython3",
   "version": "3.6.9"
  }
 },
 "nbformat": 4,
 "nbformat_minor": 4
}