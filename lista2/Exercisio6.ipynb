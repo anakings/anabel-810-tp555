{
 "cells": [
  {
   "cell_type": "code",
   "execution_count": 1,
   "metadata": {},
   "outputs": [],
   "source": [
    "import matplotlib.pyplot as plt\n",
    "import math\n",
    "import numpy as np\n",
    "from matplotlib import cm\n",
    "\n",
    "\"\"\"\n",
    "Hypothesis Function\n",
    "\"\"\"\n",
    "def hypothesis(A0, A1, A2, X):\n",
    "\th = A0 + A1*X + A2*X**2\n",
    "\treturn h\n",
    "\n",
    "def plotErrorVsIteration(Jgd, iteration):\n",
    "    fig = plt.figure(figsize=(5, 5))\n",
    "    plt.plot(np.arange(0, iteration), Jgd[0:iteration])\n",
    "    plt.xlim((0, iteration))\n",
    "    plt.yscale('log')\n",
    "    plt.xlabel('Iteration')\n",
    "    plt.ylabel('$J_e$')\n",
    "    plt.title('Error vs. Iteration number')\n",
    "    plt.show()\n",
    "\n",
    "## --------------------------------------------------------   \n",
    "    \n",
    "# Number of examples.\n",
    "M = 1000\n",
    "\n",
    "X = np.random.uniform(-5,5, size=(M, 1))\n",
    "W = np.random.normal(loc=0.0, scale=10, size=(M, 1))\n",
    "y = 3 + 1.5*X + 2.3*X**2 + W\n",
    "\n",
    "# add x0 = 1 to each instance.\n",
    "X_b = np.c_[np.ones((M, 1)), X]\n",
    "X_b = np.c_[np.ones((M, 1)), X_b]"
   ]
  },
  {
   "cell_type": "code",
   "execution_count": 2,
   "metadata": {},
   "outputs": [
    {
     "name": "stdout",
     "output_type": "stream",
     "text": [
      "Closed-Form Solution\n",
      "a0: 11.454767787627635\n",
      "a1: 11.454767787627631\n",
      "a2: 1.7892819197028231\n",
      "\n"
     ]
    }
   ],
   "source": [
    "\"\"\"\n",
    "Calculate closed-form solution using the normal equation.\n",
    "\"\"\"\n",
    "def calculateClosedFormSolution(X, y, M):\n",
    "    # Closed-form solution.\n",
    "    a = np.linalg.pinv(np.transpose(X).dot(X)).dot(np.transpose(X).dot(y))\n",
    "    h = hypothesis(a[0, 0], a[1, 0], a[2, 0], X)\n",
    "    Joptimum = (1/M)*np.sum(np.power((y - h), 2))\n",
    "    \n",
    "    return Joptimum, a\n",
    "\n",
    "# Calculate closed-form solution.\n",
    "Joptimum, a_opt = calculateClosedFormSolution(X_b, y, M)\n",
    "print('Closed-Form Solution\\na0: ' + str(a_opt[0, 0]) + '\\na1: ' + str(a_opt[1, 0]) + '\\na2: ' + str(a_opt[2, 0]) + '\\n')"
   ]
  },
  {
   "cell_type": "code",
   "execution_count": 12,
   "metadata": {},
   "outputs": [
    {
     "name": "stdout",
     "output_type": "stream",
     "text": [
      "Batch Gradient-Descent Algorithm (alpha=0.0006)\n",
      "a0: 11.221655715374368\n",
      "a1: 11.221655715374368\n",
      "a2: 0.4295020987242454\n",
      "\n"
     ]
    },
    {
     "data": {
      "image/png": "[encoded data removed]",
      "text/plain": [
       "<Figure size 360x360 with 1 Axes>"
      ]
     },
     "metadata": {
      "needs_background": "light"
     },
     "output_type": "display_data"
    }
   ],
   "source": [
    "\"\"\"\n",
    "Batch gradient descent solution.\n",
    "\"\"\"\n",
    "def batchGradientDescent(alpha, n_iterations, X, y):\n",
    "    # Random initialization of parameters.\n",
    "    a = np.zeros((3,1))\n",
    "    a[0] = -20\n",
    "    a[1] = -20\n",
    "    a[2] = -20\n",
    "    \n",
    "    Jgd = np.zeros(n_iterations+1)\n",
    "    h = hypothesis(a[0], a[1], a[2], X)\n",
    "    Jgd[0] = (1/M)*np.sum(np.power(y - h, 2))\n",
    "    \n",
    "\n",
    "    # Create vector for parameter history.\n",
    "    a_hist = np.zeros((3, n_iterations+1))\n",
    "    # Initialize history vector.\n",
    "    a_hist[0, 0] = a[0]\n",
    "    a_hist[1, 0] = a[1]\n",
    "    a_hist[2, 0] = a[2]\n",
    "\n",
    "    # Batch gradient-descent loop.\n",
    "    for iteration in range(n_iterations):\n",
    "        h = hypothesis(a_hist[0, iteration], a_hist[1, iteration], a_hist[2, iteration], X)\n",
    "        gradients = -2/M * X_b.T.dot(y - h)\n",
    "        a = a - alpha * gradients\n",
    "        a_hist[0, iteration+1] = a[0, 0]\n",
    "        a_hist[1, iteration+1] = a[1, 0]\n",
    "        a_hist[2, iteration+1] = a[2, 0]\n",
    "        h = hypothesis(a_hist[0, iteration+1], a_hist[1, iteration+1], a_hist[2, iteration+1], X)\n",
    "        Jgd[iteration+1] = (1/M)*np.sum(np.power(y - h, 2))\n",
    "        \n",
    "    return a, a_hist, Jgd\n",
    "\n",
    "# Run batch gradient-descent algorithm.\n",
    "alpha = 0.0006  # learning rate\n",
    "a, a_hist, Jgd = batchGradientDescent(alpha, n_iterations, X_b, y)\n",
    "print('Batch Gradient-Descent Algorithm (alpha=' + str(alpha) + ')\\na0: ' + str(a_hist[0, n_iterations]) + '\\na1: ' + str(a_hist[1, n_iterations]) + '\\na2: ' + str(a_hist[2, n_iterations]) + '\\n')\n",
    "plotErrorVsIteration(Jgd, n_iterations)"
   ]
  },
  {
   "cell_type": "code",
   "execution_count": null,
   "metadata": {},
   "outputs": [],
   "source": []
  }
 ],
 "metadata": {
  "kernelspec": {
   "display_name": "Python 3",
   "language": "python",
   "name": "python3"
  },
  "language_info": {
   "codemirror_mode": {
    "name": "ipython",
    "version": 3
   },
   "file_extension": ".py",
   "mimetype": "text/x-python",
   "name": "python",
   "nbconvert_exporter": "python",
   "pygments_lexer": "ipython3",
   "version": "3.7.4"
  }
 },
 "nbformat": 4,
 "nbformat_minor": 2
}
