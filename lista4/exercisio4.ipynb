{
 "cells": [
  {
   "cell_type": "code",
   "execution_count": 18,
   "metadata": {},
   "outputs": [],
   "source": [
    "# Import all necessary libraries.\n",
    "import numpy as np\n",
    "from scipy.special import erfc\n",
    "from sklearn.naive_bayes import GaussianNB\n",
    "import matplotlib.pyplot as plt"
   ]
  },
  {
   "cell_type": "code",
   "execution_count": 19,
   "metadata": {},
   "outputs": [],
   "source": [
    "# Number of QPSK symbols to be transmitted.\n",
    "N = 1000000"
   ]
  },
  {
   "cell_type": "code",
   "execution_count": 20,
   "metadata": {},
   "outputs": [],
   "source": [
    "# Instantiate a Gaussian naive Bayes classifier for each one of the parts of a QPSK symbol.\n",
    "gnb_re = GaussianNB()\n",
    "gnb_im = GaussianNB()"
   ]
  },
  {
   "cell_type": "code",
   "execution_count": 65,
   "metadata": {},
   "outputs": [],
   "source": [
    "# Create Es/N0 vector.\n",
    "EsN0dB = np.arange(-2,22,2)\n",
    "\n",
    "ser_simu = np.zeros(len(EsN0dB))\n",
    "ser_theo = np.zeros(len(EsN0dB))\n",
    "for idx in range(0,len(EsN0dB)):\n",
    "    \n",
    "    #print('Es/N0 dB:', EsN0dB[idx])\n",
    "    \n",
    "    EsN0Lin = 10.0**(-(EsN0dB[idx]/10.0))\n",
    "    \n",
    "    # Generate N QPSK symbols.\n",
    "    ip =(2.0 * (np.random.rand(N) >= 0.5) - 1.0).reshape(N, 1) + 1j*(2.0 * (np.random.rand(N) >= 0.5) - 1.0).reshape(N, 1)\n",
    "    # Normalization of energy to 1.\n",
    "    #ip = (1/np.sqrt(2))*ip\n",
    "    \n",
    "    # Generate noise vector with unitary variance.\n",
    "    noise = np.sqrt(1.0/2.0)*(np.random.randn(N, 1) + 1j*np.random.randn(N, 1))\n",
    "    \n",
    "    # Pass symbols through AWGN channel.\n",
    "    y = ip + np.sqrt(EsN0Lin)*noise\n",
    "    \n",
    "    # Fit model for real part.\n",
    "    s_re = ip.real\n",
    "    y_re = y.real\n",
    "    gnb_re.fit(y_re, s_re.ravel())\n",
    "    \n",
    "    # Fit model for imaginary parts.\n",
    "    s_im = ip.imag\n",
    "    y_im = y.imag\n",
    "    gnb_im.fit(y_im, s_im.ravel())\n",
    "    \n",
    "    # Prediction for real part.\n",
    "    detected_ip_re = gnb_re.predict(y_re).reshape(N, 1)\n",
    "    # Prediction for imaginary part.\n",
    "    detected_ip_im = gnb_im.predict(y_im).reshape(N, 1)\n",
    "        \n",
    "    # Simulated QPSK BER.\n",
    "    error_re = (ip.real != detected_ip_re)\n",
    "    error_im = (ip.imag != detected_ip_im)\n",
    "    error = 0\n",
    "    for i in range(0, N): \n",
    "        if(error_re[i]==True or error_im[i]==True): \n",
    "            error += 1\n",
    "    \n",
    "    ser_simu[idx] = 1.0 * error / N\n",
    "    \n",
    "    # Theoretical BPSK BER.    \n",
    "    ser_theo[idx] = erfc( np.sqrt(  0.5*(10.0**(EsN0dB[idx]/10.0))   ) ) - (1/4)*(erfc(np.sqrt(0.5*(10.0**(EsN0dB[idx]/10.0)))))**2.0\n",
    "   "
   ]
  },
  {
   "cell_type": "code",
   "execution_count": 66,
   "metadata": {},
   "outputs": [
    {
     "name": "stdout",
     "output_type": "stream",
     "text": [
      "Es/N0:-2 \t- BER: 2.436120e-01\n",
      "Es/N0:0 \t- BER: 1.510090e-01\n",
      "Es/N0:2 \t- BER: 7.397700e-02\n",
      "Es/N0:4 \t- BER: 2.479600e-02\n",
      "Es/N0:6 \t- BER: 4.789000e-03\n",
      "Es/N0:8 \t- BER: 3.750000e-04\n",
      "Es/N0:10 \t- BER: 8.000000e-06\n",
      "Es/N0:12 \t- BER: 0.000000e+00\n",
      "Es/N0:14 \t- BER: 0.000000e+00\n",
      "Es/N0:16 \t- BER: 0.000000e+00\n",
      "Es/N0:18 \t- BER: 0.000000e+00\n",
      "Es/N0:20 \t- BER: 0.000000e+00\n",
      "\n",
      "B.\n"
     ]
    },
    {
     "data": {
      "image/png": "[encoded data removed]",
      "text/plain": [
       "<Figure size 504x504 with 1 Axes>"
      ]
     },
     "metadata": {
      "needs_background": "light"
     },
     "output_type": "display_data"
    }
   ],
   "source": [
    "# Print Es/N0 versus BER values.\n",
    "for i in range(0,len(ser_simu)): print('Es/N0:%d \\t- BER: %e' % (EsN0dB[i], ser_simu[i]))\n",
    "\n",
    "# Plot Es/N0 versus BER values.\n",
    "print('\\nB.')\n",
    "fig = plt.figure(figsize=(7,7))\n",
    "plt.plot(EsN0dB, ser_theo, label='theoretical')\n",
    "plt.plot(EsN0dB, ser_simu, 'ro', label='simulated')\n",
    "plt.xscale('linear')\n",
    "plt.yscale('log')\n",
    "plt.xlabel('Es/N0 [dB]')\n",
    "plt.ylabel('BER')\n",
    "plt.grid(True)\n",
    "plt.title('QPSK detection')\n",
    "plt.legend()\n",
    "plt.xlim([-5, 20])\n",
    "#plt.ylim([1e-20, 1])\n",
    "plt.savefig(\"bpsk_ber_curves.png\", dpi=600)\n",
    "plt.show()"
   ]
  },
  {
   "cell_type": "code",
   "execution_count": 67,
   "metadata": {},
   "outputs": [
    {
     "name": "stdout",
     "output_type": "stream",
     "text": [
      "C. A curva simulada se aproxima da curva teórica da SER mais tem uma leve diferenca\n",
      "\n",
      "D. Se as classes, ou seja, os símbolos, tivessem probabilidades diferentes, nós NÃO poderíamos dizer que o classificador ML é equivalente ao MAP. Para dizer isso as classes precisam ser equiprováveis e independentes do índice\n"
     ]
    }
   ],
   "source": [
    "print('C. A curva simulada se aproxima da curva teórica da SER mais tem uma leve diferenca')\n",
    "print('\\nD. Se as classes, ou seja, os símbolos, tivessem probabilidades diferentes, nós NÃO poderíamos dizer que o classificador ML é equivalente ao MAP. Para dizer isso as classes precisam ser equiprováveis e independentes do índice')"
   ]
  },
  {
   "cell_type": "code",
   "execution_count": null,
   "metadata": {},
   "outputs": [],
   "source": []
  }
 ],
 "metadata": {
  "kernelspec": {
   "display_name": "Python 3",
   "language": "python",
   "name": "python3"
  },
  "language_info": {
   "codemirror_mode": {
    "name": "ipython",
    "version": 3
   },
   "file_extension": ".py",
   "mimetype": "text/x-python",
   "name": "python",
   "nbconvert_exporter": "python",
   "pygments_lexer": "ipython3",
   "version": "3.7.4"
  }
 },
 "nbformat": 4,
 "nbformat_minor": 2
}
