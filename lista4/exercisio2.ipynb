{
 "cells": [
  {
   "cell_type": "code",
   "execution_count": 25,
   "metadata": {},
   "outputs": [
    {
     "name": "stdout",
     "output_type": "stream",
     "text": [
      "Comprovando que a suma das probabilidades seja 1: 0.9725371630133535\n",
      "A probabilidade de que o Jair pague o empréstimo é 0.7256235827664399 e a probabilidade de que ele não pague é 0.2469135802469136\n",
      "Como a probabilidade que ele pague é maior eu SIM autorizaria o empréstimo\n"
     ]
    }
   ],
   "source": [
    "import xlrd\n",
    "\n",
    "# To open Workbook\n",
    "wb = xlrd.open_workbook('payment.xlsx')\n",
    "sheet = wb.sheet_by_index(0)\n",
    "\n",
    "def calculate_probability(c_possibility, c_condictions, attribute_possibility, attribute_condictions, row):\n",
    "    count1 = 0\n",
    "    count2 = 0\n",
    "    for i in range(1, row): \n",
    "        if sheet.cell_value(i, c_condictions) == attribute_condictions:\n",
    "            count1 += 1\n",
    "        if sheet.cell_value(i, c_possibility) == attribute_possibility and sheet.cell_value(i, c_condictions) == attribute_condictions:\n",
    "            count2 += 1\n",
    "    #print(str(count2) + ' and ' + str(count1))\n",
    "    probability = count2/count1\n",
    "    return probability\n",
    "\n",
    "row = 1\n",
    "while True:\n",
    "    try:\n",
    "        if sheet.cell_value(row, 0) == '':\n",
    "            break\n",
    "        row += 1\n",
    "    except:\n",
    "        break\n",
    "\n",
    "count = 0\n",
    "for t in range(1, row): \n",
    "    if sheet.cell_value(t, 3) == 1:\n",
    "        count += 1\n",
    "probSim = count/(row - 1)\n",
    "probNao = 1 - probSim\n",
    "\n",
    "count = 0\n",
    "for t in range(1, row): \n",
    "    if sheet.cell_value(t, 0) == 0:\n",
    "        count += 1\n",
    "probNaoCasa = count/(row - 1)\n",
    "\n",
    "count = 0\n",
    "for t in range(1, row): \n",
    "    if sheet.cell_value(t, 1) == 2:\n",
    "        count += 1\n",
    "probCasado = count/(row - 1)\n",
    "\n",
    "count = 0\n",
    "for t in range(1, row): \n",
    "    if sheet.cell_value(t, 2) == 3:\n",
    "        count += 1\n",
    "probTreis = count/(row - 1)\n",
    "\n",
    "nao_casa_sim_pagou = calculate_probability(0, 3, 0, 1, row)\n",
    "nao_casa_nao_pagou = calculate_probability(0, 3, 0, 0, row)\n",
    "casado_sim_pagou = calculate_probability(1, 3, 2, 1, row)\n",
    "casado_nao_pagou = calculate_probability(1, 3, 2, 0, row)\n",
    "treis_sim_pagou = calculate_probability(2, 3, 3, 1, row)\n",
    "treis_nao_pagou = calculate_probability(2, 3, 3, 0, row)\n",
    "\n",
    "pagarsim_nao_casa_casado_treis = nao_casa_sim_pagou*casado_sim_pagou*treis_sim_pagou*probSim/(probNaoCasa*probCasado*probTreis)\n",
    "pagarnao_nao_casa_casado_treis = nao_casa_nao_pagou*casado_nao_pagou*treis_nao_pagou*probNao/(probNaoCasa*probCasado*probTreis)\n",
    "print('Comprovando que a suma das probabilidades seja 1: ' + str(pagarsim_nao_casa_casado_treis + pagarnao_nao_casa_casado_treis))\n",
    "\n",
    "print('A probabilidade de que o Jair pague o empréstimo é ' + str(pagarsim_nao_casa_casado_treis) + ' e a probabilidade de que ele não pague é ' + str(pagarnao_nao_casa_casado_treis))\n",
    "\n",
    "if pagarsim_nao_casa_casado_treis > pagarnao_nao_casa_casado_treis:\n",
    "    print('Como a probabilidade que ele pague é maior eu SIM autorizaria o empréstimo')\n",
    "else:\n",
    "    print('Como a probabilidade que ele pague é menor ou igual eu NAO autorizaria o empréstimo')"
   ]
  },
  {
   "cell_type": "code",
   "execution_count": null,
   "metadata": {},
   "outputs": [],
   "source": []
  }
 ],
 "metadata": {
  "kernelspec": {
   "display_name": "Python 3",
   "language": "python",
   "name": "python3"
  },
  "language_info": {
   "codemirror_mode": {
    "name": "ipython",
    "version": 3
   },
   "file_extension": ".py",
   "mimetype": "text/x-python",
   "name": "python",
   "nbconvert_exporter": "python",
   "pygments_lexer": "ipython3",
   "version": "3.7.4"
  }
 },
 "nbformat": 4,
 "nbformat_minor": 2
}
