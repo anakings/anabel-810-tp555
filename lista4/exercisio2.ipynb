{
 "cells": [
  {
   "cell_type": "code",
   "execution_count": 29,
   "metadata": {},
   "outputs": [
    {
     "name": "stdout",
     "output_type": "stream",
     "text": [
      "A probabilidade de que o Jair pague o empréstimo é 0.029684601113172535 e a probabilidade de que ele não pague é 0.026936026936026935. Como a probabilidade que ele pague é maior eu autorizaria o empréstimo\n"
     ]
    }
   ],
   "source": [
    "import xlrd\n",
    "\n",
    "# To open Workbook\n",
    "wb = xlrd.open_workbook('payment.xlsx')\n",
    "sheet = wb.sheet_by_index(0)\n",
    "\n",
    "def calculate_probability(c_possibility, c_condictions, attribute_possibility, attribute_condictions):\n",
    "    count1 = 0\n",
    "    count2 = 0\n",
    "    for i in range(1, 11): \n",
    "        if sheet.cell_value(i, c_condictions) == attribute_condictions:\n",
    "            count1 += 1\n",
    "        if sheet.cell_value(i, c_possibility) == attribute_possibility and sheet.cell_value(i, c_condictions) == attribute_condictions:\n",
    "            count2 += 1\n",
    "    probability = count2/count1\n",
    "    return probability\n",
    "\n",
    "count = 0\n",
    "for t in range(1, 11): \n",
    "    if sheet.cell_value(t, 3) == 1:\n",
    "        count += 1\n",
    "probsim = count/11\n",
    "probnao = 1 - probsim\n",
    "\n",
    "nao_casa_sim_pagou = calculate_probability(0, 3, 0, 1)\n",
    "nao_casa_nao_pagou = calculate_probability(0, 3, 0, 0)\n",
    "casado_sim_pagou   = calculate_probability(1, 3, 2, 1)\n",
    "casado_nao_pagou   = calculate_probability(1, 3, 2, 0)\n",
    "treis_sim_pagou   = calculate_probability(1, 3, 3, 1)\n",
    "treis_nao_pagou   = calculate_probability(1, 3, 3, 0)\n",
    "\n",
    "pagarsim_nao_casa_casado_treis = nao_casa_sim_pagou*casado_sim_pagou*treis_sim_pagou*probsim\n",
    "pagarnao_nao_casa_casado_treis = nao_casa_nao_pagou*casado_nao_pagou*treis_nao_pagou*probnao\n",
    "\n",
    "print('A probabilidade de que o Jair pague o empréstimo é ' + str(pagarsim_nao_casa_casado_treis) + ' e a probabilidade de que ele não pague é ' + str(pagarnao_nao_casa_casado_treis) + '. Como a probabilidade que ele pague é maior eu autorizaria o empréstimo')"
   ]
  },
  {
   "cell_type": "code",
   "execution_count": null,
   "metadata": {},
   "outputs": [],
   "source": []
  },
  {
   "cell_type": "code",
   "execution_count": null,
   "metadata": {},
   "outputs": [],
   "source": []
  }
 ],
 "metadata": {
  "kernelspec": {
   "display_name": "Python 3",
   "language": "python",
   "name": "python3"
  },
  "language_info": {
   "codemirror_mode": {
    "name": "ipython",
    "version": 3
   },
   "file_extension": ".py",
   "mimetype": "text/x-python",
   "name": "python",
   "nbconvert_exporter": "python",
   "pygments_lexer": "ipython3",
   "version": "3.7.4"
  }
 },
 "nbformat": 4,
 "nbformat_minor": 2
}
