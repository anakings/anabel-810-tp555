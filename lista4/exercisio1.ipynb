{
 "cells": [
  {
   "cell_type": "code",
   "execution_count": 6,
   "metadata": {},
   "outputs": [
    {
     "name": "stdout",
     "output_type": "stream",
     "text": [
      "Test A\n",
      "P(+): 0.1085\n",
      "P(doença|+): 0.08755760368663594\n",
      "P(sem_doença|+): 0.9124423963133641\n",
      "\n",
      "Test B\n",
      "P(+): 0.0585\n",
      "P(doença|+): 0.15384615384615385\n",
      "P(sem_doença|+): 0.8461538461538461\n",
      "\n",
      "O teste B, retornando positivo, é mais indicativo de alguém realmente estar com o vírus pois P(doença|+)(B) > P(doença|+)(A)\n"
     ]
    }
   ],
   "source": [
    "# 2 classes: possui doença e não possui doença \n",
    "# 1 atributo: resultado do teste: + ou -\n",
    "\n",
    "# Test A\n",
    "print('Test A')\n",
    "probPositivoDoença = 0.95 # P(+|doença) = 0.95\n",
    "probPositivoSem_doença = 0.1 # P(+|sem_doença) = 0.1\n",
    "\n",
    "probDoença = 0.01 # P(doença) = 0.01\n",
    "probSem_doença = 0.99 # P(sem_doença) = 0.99\n",
    "\n",
    "# P(+) =  P(+|doença)*P(doença) + P(+|sem_doença)*P(sem_doença)\n",
    "probPositivo =  probPositivoDoença*probDoença + probPositivoSem_doença*probSem_doença\n",
    "print('P(+): ' + str(probPositivo))\n",
    "\n",
    "# P(doença|+) = P(+|doença)*P(doença)/P(+)\n",
    "probDoençaPositivo = probPositivoDoença*probDoença/probPositivo\n",
    "print('P(doença|+): ' + str(probDoençaPositivo))\n",
    "\n",
    "# P(sem_doença|+) = P(+|sem_doença)*P(sem_doença)/P(+)\n",
    "probSem_doençaPositivo = probPositivoSem_doença*probSem_doença/probPositivo\n",
    "print('P(sem_doença|+): ' + str(probSem_doençaPositivo))\n",
    "\n",
    "########################################################################################\n",
    "\n",
    "# Test B\n",
    "print('\\nTest B')\n",
    "probPositivoDoença = 0.9 # P(+|doença) = 0.9\n",
    "probPositivoSem_doença = 0.05 # P(+|sem_doença) = 0.05\n",
    "\n",
    "probDoença = 0.01 # P(doença) = 0.01\n",
    "probSem_doença = 0.99 # P(sem_doença) = 0.99\n",
    "\n",
    "# P(+) =  P(+|doença)*P(doença) + P(+|sem_doença)*P(sem_doença)\n",
    "probPositivo =  probPositivoDoença*probDoença + probPositivoSem_doença*probSem_doença\n",
    "print('P(+): ' + str(probPositivo))\n",
    "\n",
    "# P(doença|+) = P(+|doença)*P(doença)/P(+)\n",
    "probDoençaPositivo = probPositivoDoença*probDoença/probPositivo\n",
    "print('P(doença|+): ' + str(probDoençaPositivo))\n",
    "\n",
    "# P(sem_doença|+) = P(+|sem_doença)*P(sem_doença)/P(+)\n",
    "probSem_doençaPositivo = probPositivoSem_doença*probSem_doença/probPositivo\n",
    "print('P(sem_doença|+): ' + str(probSem_doençaPositivo))\n",
    "\n",
    "print('\\nO teste B, retornando positivo, é mais indicativo de alguém realmente estar com o vírus pois P(doença|+)(B) > P(doença|+)(A)')\n",
    "\n",
    "'''\n",
    "2 classes: possui doença e não possui doença \n",
    "1 atributo: resultado do teste: + ou -\n",
    "\n",
    "Probabilidades:\n",
    "• Test A\n",
    "    P(+|doença) = 0.95                    P(+|sem_doença) = 0.1\n",
    "    P(doença) = 0.01                      P(sem_doença) = 0.99\n",
    "    \n",
    "    P(+) =  P(+|doença)*P(doença) + P(+|sem_doença)*P(sem_doença) = 0.95*0.01 + 0.1*0.99 = 0.1085\n",
    "    P(doença|+) = P(+|doença)*P(doença)/P(+) = 0.95*0.01/0.1085 = 19/217 = 0,08756\n",
    "    P(sem_doença|+) = P(+|sem_doença)*P(sem_doença)/P(+) = 0.1*0.99/0.1085 = 198/217 = 0,91244\n",
    "    \n",
    "    \n",
    "• Test B    \n",
    "    P(+|doença) = 0.9                     P(+|sem_doença) = 0.05\n",
    "    P(doença) = 0.01                      P(sem_doença) = 0.99\n",
    "    \n",
    "    P(+) =  P(+|doença)*P(doença) + P(+|sem_doença)*P(sem_doença) = 0.9*0.01 + 0.05*0.99 = 0.0585\n",
    "    P(doença|+) = P(+|doença)*P(doença)/P(+) = 0.9*0.01/0.0585 = 2/3 = 0,1538\n",
    "    P(sem_doença|+) = P(+|sem_doença)*P(sem_doença)/P(+) = 0.05*0.99/0.0585 = 11/13 = 0,8461\n",
    "    \n",
    "O teste B, retornando positivo, é mais indicativo de alguém realmente estar com o vírus pois P(doença|+)(B) > P(doença|+)(A)\n",
    "'''"
   ]
  },
  {
   "cell_type": "code",
   "execution_count": null,
   "metadata": {},
   "outputs": [],
   "source": []
  }
 ],
 "metadata": {
  "kernelspec": {
   "display_name": "Python 3",
   "language": "python",
   "name": "python3"
  },
  "language_info": {
   "codemirror_mode": {
    "name": "ipython",
    "version": 3
   },
   "file_extension": ".py",
   "mimetype": "text/x-python",
   "name": "python",
   "nbconvert_exporter": "python",
   "pygments_lexer": "ipython3",
   "version": "3.7.4"
  }
 },
 "nbformat": 4,
 "nbformat_minor": 2
}
