{
 "cells": [
  {
   "cell_type": "code",
   "execution_count": 29,
   "metadata": {},
   "outputs": [
    {
     "name": "stdout",
     "output_type": "stream",
     "text": [
      "Probabilidade do sexo feminino: 0.0015070674472492881\n",
      "Probabilidade do sexo masculino: 1.6940403363367222e-08\n",
      "\n",
      "Tem maior probabilidade o sexo feminino\n"
     ]
    }
   ],
   "source": [
    "import xlrd\n",
    "import math\n",
    "\n",
    "# To open Workbook\n",
    "wb = xlrd.open_workbook('sexo.xlsx')\n",
    "sheet = wb.sheet_by_index(0)\n",
    "\n",
    "def calculate_media(c_possibility, c_conditions, attribute_conditions, row):\n",
    "    N = 0\n",
    "    list = []\n",
    "    val = 0\n",
    "    x = 0\n",
    "    for i in range(1, row):\n",
    "        if sheet.cell_value(i, c_conditions) == attribute_conditions:\n",
    "            list.append(sheet.cell_value(i, c_possibility))\n",
    "            x = x + sheet.cell_value(i, c_possibility)\n",
    "            N += 1\n",
    "    mean = x / N\n",
    "    for s in list:\n",
    "        val = (s - mean)**2 + val\n",
    "    std = math.sqrt(val/(N - 1))\n",
    "    return mean, std\n",
    "\n",
    "def calculate_probability(c_possibility, c_conditions, attribute_conditions, row, Xk):\n",
    "    mean, std = calculate_media(c_possibility, c_conditions, attribute_conditions, row) \n",
    "    probability = 1/(std*math.sqrt(2*math.pi))*math.exp(-(Xk-mean)**2/(2*(std)**2))\n",
    "    return probability\n",
    "                                                       \n",
    "row = 1\n",
    "while True:\n",
    "    try:\n",
    "        if sheet.cell_value(row, 0) == '':\n",
    "            break\n",
    "        row += 1\n",
    "    except:\n",
    "        break\n",
    "\n",
    "WomanProbability = 0.5\n",
    "ManProbability = 0.5\n",
    "\n",
    "WomanProbabilityHeight = calculate_probability(0, 3, 'feminino', row, 1.83)\n",
    "WomanProbabilityWeight = calculate_probability(1, 3, 'feminino', row, 58.97)\n",
    "WomanProbabilityShoes = calculate_probability(2, 3, 'feminino', row, 20.32)\n",
    "\n",
    "ManProbabilityHeight = calculate_probability(0, 3, 'masculino', row, 1.83)\n",
    "ManProbabilityWeight = calculate_probability(1, 3, 'masculino', row, 58.97)\n",
    "ManProbabilityShoes = calculate_probability(2, 3, 'masculino', row, 20.32)\n",
    "\n",
    "Woman = WomanProbabilityHeight * WomanProbabilityWeight * WomanProbabilityShoes * WomanProbability\n",
    "Man = ManProbabilityHeight * ManProbabilityWeight * ManProbabilityShoes * ManProbability\n",
    "\n",
    "print('Probabilidade do sexo feminino: ' + str(Woman))\n",
    "print('Probabilidade do sexo masculino: ' + str(Man) + '\\n')\n",
    "\n",
    "if Woman > Man:\n",
    "    print('Tem maior probabilidade o sexo feminino')\n",
    "elif Woman < Man:\n",
    "    print('Tem maior probabilidade o sexo masculino')\n",
    "else:\n",
    "    print('Os dois sexos tem a misma probabilidade')"
   ]
  },
  {
   "cell_type": "code",
   "execution_count": null,
   "metadata": {},
   "outputs": [],
   "source": []
  }
 ],
 "metadata": {
  "kernelspec": {
   "display_name": "Python 3",
   "language": "python",
   "name": "python3"
  },
  "language_info": {
   "codemirror_mode": {
    "name": "ipython",
    "version": 3
   },
   "file_extension": ".py",
   "mimetype": "text/x-python",
   "name": "python",
   "nbconvert_exporter": "python",
   "pygments_lexer": "ipython3",
   "version": "3.7.4"
  }
 },
 "nbformat": 4,
 "nbformat_minor": 2
}
