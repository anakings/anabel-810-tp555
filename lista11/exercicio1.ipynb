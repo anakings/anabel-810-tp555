{
 "cells": [
  {
   "cell_type": "code",
   "execution_count": 59,
   "metadata": {},
   "outputs": [
    {
     "name": "stdout",
     "output_type": "stream",
     "text": [
      "  y g(x)\n",
      "[[0. 1.]\n",
      " [0. 0.]\n",
      " [0. 2.]\n",
      " [0. 1.]\n",
      " [0. 2.]\n",
      " [0. 1.]\n",
      " [1. 3.]\n",
      " [0. 2.]]\n"
     ]
    }
   ],
   "source": [
    "import numpy as np\n",
    "\n",
    "x = np.array([[0,0,0],[0,0,1],[0,1,0],[0,1,1],[1,0,0],[1,0,1],[1,1,0],[1,1,1]])\n",
    "y = np.array([[0],[0],[0],[0],[0],[0],[1],[0]])\n",
    "\n",
    "g_x = np.zeros((y.shape[0],1))\n",
    "for i in range(x.shape[0]):\n",
    "    sum = 0\n",
    "    for j in range(x.shape[1]):\n",
    "        if j == 2:\n",
    "            sum = sum + np.logical_not(x[i,j])\n",
    "        else:\n",
    "            sum = sum + x[i,j]\n",
    "    g_x[i,0] = sum\n",
    "print('  y g(x)')\n",
    "print(np.concatenate((y, g_x), axis=1))"
   ]
  },
  {
   "cell_type": "code",
   "execution_count": 60,
   "metadata": {},
   "outputs": [
    {
     "name": "stdout",
     "output_type": "stream",
     "text": [
      "Analisando-se g(x) , vemos que para o disparo occorer, o valor de x3 deve ser negado, e assim, ele ocorre quando g(x)≥ 3,portanto, θ=3.\n"
     ]
    },
    {
     "data": {
      "image/png": "[encoded data removed]",
      "text/plain": [
       "<Figure size 360x360 with 1 Axes>"
      ]
     },
     "metadata": {
      "needs_background": "light"
     },
     "output_type": "display_data"
    }
   ],
   "source": [
    "print('Analisando-se g(x) , vemos que para o disparo occorer, o valor de x3 deve ser negado, e assim, ele ocorre quando g(x)≥ 3,portanto, θ=3.')\n",
    "\n",
    "idy = np.argwhere(y == 1)\n",
    "listg = []\n",
    "for i in idy:\n",
    "    listg.append(g_x[i[0],0])\n",
    "theta = np.min(listg)\n",
    "\n",
    "f_g_x = [0 for i in range(int(theta) + 1)] + [1 for i in range(3)]\n",
    "import matplotlib.pyplot as plt\n",
    "fig = plt.figure(figsize=(5,5))\n",
    "plt.step(f_g_x, '-')\n",
    "plt.xlabel('$g(x)$')\n",
    "plt.ylabel('$f (g(x))$')\n",
    "plt.savefig('distribution_of_classes', dpi=600)\n",
    "plt.show()"
   ]
  },
  {
   "cell_type": "code",
   "execution_count": null,
   "metadata": {},
   "outputs": [],
   "source": []
  }
 ],
 "metadata": {
  "kernelspec": {
   "display_name": "Python 3",
   "language": "python",
   "name": "python3"
  },
  "language_info": {
   "codemirror_mode": {
    "name": "ipython",
    "version": 3
   },
   "file_extension": ".py",
   "mimetype": "text/x-python",
   "name": "python",
   "nbconvert_exporter": "python",
   "pygments_lexer": "ipython3",
   "version": "3.7.4"
  }
 },
 "nbformat": 4,
 "nbformat_minor": 2
}
