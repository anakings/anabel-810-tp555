{
 "cells": [
  {
   "cell_type": "code",
   "execution_count": 87,
   "metadata": {},
   "outputs": [
    {
     "name": "stdout",
     "output_type": "stream",
     "text": [
      "Usando o modelo McCulloch não é possível classificar a função booleana XOR pois não tem um limiar de ativação. Por exemplo abaixo temos x1, x2, x3, y e g(x) (que nao e mas que as sumas das entradas x). Pode-se ver que \"y\" da \"1\" para g(x)=1 pero para g(x)=2 dai \"0\", assim de forma intercalada, entao nao e possivel determinar um limiar de ativação\n",
      "\n",
      "  x1 x2 y g(x)\n",
      "[[0. 0. 0. 0.]\n",
      " [0. 1. 1. 1.]\n",
      " [1. 0. 1. 1.]\n",
      " [1. 1. 0. 2.]]\n",
      "\n",
      "O modelo perceptron tambem não é possivel ser utilizado pois os dados não são separáveis por uma única fronteira. Por exemplo, na figura abaixo mostrase os dados ploteados e podese ver que as classes não podem ser separadas por uma fronteira de decisão, tem que ser separadas por DUAS fronteiras de decisão\n"
     ]
    },
    {
     "data": {
      "image/png": "[encoded data removed]",
      "text/plain": [
       "<Figure size 432x288 with 1 Axes>"
      ]
     },
     "metadata": {
      "needs_background": "light"
     },
     "output_type": "display_data"
    }
   ],
   "source": [
    "import numpy as np\n",
    "\n",
    "x = np.array([[0,0],[0,1],[1,0],[1,1]])\n",
    "y = np.array([[0],[1],[1],[0]])\n",
    "\n",
    "g_x = np.zeros((y.shape[0],1))\n",
    "for i in range(x.shape[0]):\n",
    "    sum = 0\n",
    "    for j in range(x.shape[1]):\n",
    "        sum = sum + x[i,j]\n",
    "    g_x[i,0] = sum\n",
    "    \n",
    "print('Usando o modelo McCulloch não é possível classificar a função booleana XOR pois não tem um limiar de ativação. Por exemplo abaixo temos x1, x2, x3, y e g(x) (que nao e mas que as sumas das entradas x). Pode-se ver que \"y\" da \"1\" para g(x)=1 pero para g(x)=2 dai \"0\", assim de forma intercalada, entao nao e possivel determinar um limiar de ativação\\n')                                                  \n",
    "print('  x1 x2 y g(x)')\n",
    "z = np.concatenate((x,np.concatenate((y, g_x), axis=1)), axis=1)\n",
    "print(z)\n",
    "\n",
    "print('\\nO modelo perceptron tambem não é possivel ser utilizado pois os dados não são separáveis por uma única fronteira. Por exemplo, na figura abaixo mostrase os dados ploteados e podese ver que as classes não podem ser separadas por uma fronteira de decisão, tem que ser separadas por DUAS fronteiras de decisão')\n",
    "\n",
    "import matplotlib.pyplot as plt\n",
    "from matplotlib import cm\n",
    "\n",
    "idx0 = np.argwhere(y == 0)\n",
    "idx1 = np.argwhere(y == 1)\n",
    "\n",
    "plt.plot(x[idx0[:,0],0], x[idx0[:,0],1], 'b.', label='y=0')\n",
    "plt.plot(x[idx1[:,0],0], x[idx1[:,0],1], 'r.', label='y=1')\n",
    "plt.show()"
   ]
  },
  {
   "cell_type": "code",
   "execution_count": null,
   "metadata": {},
   "outputs": [],
   "source": []
  }
 ],
 "metadata": {
  "kernelspec": {
   "display_name": "Python 3",
   "language": "python",
   "name": "python3"
  },
  "language_info": {
   "codemirror_mode": {
    "name": "ipython",
    "version": 3
   },
   "file_extension": ".py",
   "mimetype": "text/x-python",
   "name": "python",
   "nbconvert_exporter": "python",
   "pygments_lexer": "ipython3",
   "version": "3.7.4"
  }
 },
 "nbformat": 4,
 "nbformat_minor": 2
}
