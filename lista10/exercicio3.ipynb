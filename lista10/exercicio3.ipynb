{
 "cells": [
  {
   "cell_type": "code",
   "execution_count": 3,
   "metadata": {},
   "outputs": [],
   "source": [
    "import tensorflow.compat.v1 as tf\n",
    "tf.disable_v2_behavior()\n",
    "\n",
    "# Creating the graph.\n",
    "x = tf.Variable(3, name=\"x\")\n",
    "y = tf.Variable(4, name=\"y\")\n",
    "a = x*x*y + y + 2\n",
    "b = x*x*y + y + 3"
   ]
  },
  {
   "cell_type": "code",
   "execution_count": 4,
   "metadata": {},
   "outputs": [
    {
     "name": "stdout",
     "output_type": "stream",
     "text": [
      "42 43\n",
      "42 43\n"
     ]
    }
   ],
   "source": [
    "# Executing the calculation graph.\n",
    "sess = tf.Session()\n",
    "sess.run(x.initializer)\n",
    "sess.run(y.initializer)\n",
    "a_val, b_val = a.eval(session=sess), b.eval (session=sess)\n",
    "a_val1, b_val1 = sess.run ([a, b])\n",
    "print(a_val, b_val)\n",
    "print(a_val1, b_val1)\n",
    "sess.close()"
   ]
  },
  {
   "cell_type": "code",
   "execution_count": 5,
   "metadata": {},
   "outputs": [
    {
     "name": "stdout",
     "output_type": "stream",
     "text": [
      "O comando a_val, b_val = a.eval(session=sess), b.eval (session=sess) SIM é equivalente a a_val, b_val = sess.run ([a, b])\n"
     ]
    }
   ],
   "source": [
    "print('O comando a_val, b_val = a.eval(session=sess), b.eval (session=sess) SIM é equivalente a a_val, b_val = sess.run ([a, b])')"
   ]
  },
  {
   "cell_type": "code",
   "execution_count": null,
   "metadata": {},
   "outputs": [],
   "source": []
  }
 ],
 "metadata": {
  "kernelspec": {
   "display_name": "Python 3",
   "language": "python",
   "name": "python3"
  },
  "language_info": {
   "codemirror_mode": {
    "name": "ipython",
    "version": 3
   },
   "file_extension": ".py",
   "mimetype": "text/x-python",
   "name": "python",
   "nbconvert_exporter": "python",
   "pygments_lexer": "ipython3",
   "version": "3.7.4"
  }
 },
 "nbformat": 4,
 "nbformat_minor": 2
}
