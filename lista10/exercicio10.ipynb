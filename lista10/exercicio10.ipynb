{
 "cells": [
  {
   "cell_type": "code",
   "execution_count": 119,
   "metadata": {},
   "outputs": [
    {
     "name": "stdout",
     "output_type": "stream",
     "text": [
      "epoch: 0 loss: 0.845338\n",
      "epoch: 1 loss: 0.7546179\n",
      "epoch: 2 loss: 0.75461936\n",
      "epoch: 3 loss: 0.7718787\n",
      "epoch: 4 loss: 0.719879\n",
      "epoch: 5 loss: 0.74416405\n",
      "epoch: 6 loss: 0.74459815\n",
      "epoch: 7 loss: 0.6993016\n",
      "epoch: 8 loss: 0.7122255\n",
      "epoch: 9 loss: 0.7328194\n",
      "epoch: 10 loss: 0.6661593\n",
      "epoch: 11 loss: 0.63387036\n",
      "epoch: 12 loss: 0.72878194\n",
      "epoch: 13 loss: 0.62969106\n",
      "epoch: 14 loss: 0.5426691\n",
      "epoch: 15 loss: 0.56797016\n",
      "epoch: 16 loss: 0.5012263\n",
      "epoch: 17 loss: 0.46444875\n",
      "epoch: 18 loss: 0.4318722\n",
      "epoch: 19 loss: 0.43836567\n"
     ]
    }
   ],
   "source": [
    "import tensorflow.compat.v1 as tf\n",
    "tf.disable_v2_behavior()\n",
    "import numpy as np\n",
    "from sklearn.model_selection import train_test_split\n",
    "from sklearn.datasets import make_moons\n",
    "from datetime import datetime\n",
    "now = datetime.utcnow().strftime(\"%Y%m%d%H%M%S\")\n",
    "root_logdir = \"C:/Anabel/inatel 2020/TP555- IA and ML/10ma aula/tf_logs\"\n",
    "logdir = \"{}/run-{}/\".format(root_logdir, now)\n",
    "import os\n",
    "if not os.path.isdir('C:/Anabel/inatel 2020/TP555- IA and ML/10ma aula/my_models'): os.mkdir('C:/Anabel/inatel 2020/TP555- IA and ML/10ma aula/my_models')\n",
    "\n",
    "def fetch_batch(epoch, batch_size, x_train, y_train):\n",
    "    np.random.seed(epoch)\n",
    "    indices = np.random.randint(x_train.shape[0], size=batch_size)\n",
    "    X_batch = x_train[indices]\n",
    "    y_batch = y_train.reshape(-1, 1)[indices]\n",
    "    return X_batch, y_batch\n",
    "\n",
    "N = 1000\n",
    "X_data, y_data = make_moons(N, noise=0.1, random_state=42)\n",
    "\n",
    "# Split array into random train and test subsets.\n",
    "x_train, x_test, y_train, y_test = train_test_split(X_data, y_data, random_state=23, test_size=0.2)\n",
    "\n",
    "X = tf.placeholder(tf.float32, shape=(None, x_train.shape[1]), name=\"X\")\n",
    "y = tf.placeholder(tf.float32, shape=(None, 1), name=\"y\")\n",
    "prediction = tf.placeholder(tf.float32, shape=(None, 1), name=\"prediction\")\n",
    "\n",
    "n_epochs = 20\n",
    "# f)\n",
    "batch_size = 1\n",
    "learning_rate = 0.5\n",
    "\n",
    "a = tf.Variable(tf.random_uniform([7, 1], -1.0, 1.0, seed=42), name=\"a\")\n",
    "aX = a[0, 0] + tf.math.scalar_mul(a[1, 0], tf.slice(X, [0, 0], [-1, 1])) + tf.math.scalar_mul(a[2, 0], tf.slice(X, [0, 1], [-1, 1])) + tf.math.scalar_mul(a[3, 0], tf.slice(X, [0, 0], [-1, 1])**2) + tf.math.scalar_mul(a[4, 0], tf.slice(X, [0, 1], [-1, 1])**2) + tf.math.scalar_mul(a[5, 0], tf.slice(X, [0, 0], [-1, 1])**3) + tf.math.scalar_mul(a[6, 0], tf.slice(X, [0, 1], [-1, 1])**3)\n",
    "# a)\n",
    "sigmoid = tf.sigmoid(aX, name='sigmoid')\n",
    "file_writer = tf.summary.FileWriter(logdir, tf.get_default_graph())\n",
    "with tf.name_scope(\"loss\") as scope:\n",
    "    error = sigmoid - y\n",
    "    mse = tf.reduce_mean(tf.square(error), name=\"mse\")\n",
    "mse_summary = tf.summary.scalar('MSE', mse)\n",
    "optimizer = tf.train.GradientDescentOptimizer(learning_rate=learning_rate)\n",
    "training_op = optimizer.minimize(mse)\n",
    "loss_ = tf.compat.v1.losses.log_loss(y_train.reshape(-1, 1), prediction, scope=None)\n",
    "\n",
    "init = tf.global_variables_initializer()\n",
    "saver = tf.train.Saver()\n",
    "\n",
    "with tf.Session() as sess:\n",
    "    if not os.path.isfile('C:/Anabel/inatel 2020/TP555- IA and ML/10ma aula/my_models/my_model.ckpt'):\n",
    "        sess.run(init)\n",
    "    else:\n",
    "        # c)\n",
    "        saver.restore(sess, \"C:/Anabel/inatel 2020/TP555- IA and ML/10ma aula/my_models/my_model.ckpt\")\n",
    "\n",
    "    for epoch in range(n_epochs):\n",
    "        X_batch, y_batch = fetch_batch(epoch, batch_size, x_train, y_train)\n",
    "        summary_str = mse_summary.eval(feed_dict={X: X_batch, y: y_batch})\n",
    "        step = epoch\n",
    "        # d)\n",
    "        file_writer.add_summary(summary_str, step)\n",
    "        # b)\n",
    "        save_path = saver.save(sess, \"C:/Anabel/inatel 2020/TP555- IA and ML/10ma aula/my_models/my_model.ckpt\")\n",
    "        pred = sigmoid.eval(feed_dict={X: x_train})\n",
    "        loss_val = loss_.eval(feed_dict={prediction: pred})\n",
    "        # e)\n",
    "        print('epoch:', epoch, 'loss:', loss_val)\n",
    "        sess.run(training_op, feed_dict={X: X_batch, y: y_batch})\n",
    "    # b)\n",
    "    save_path = saver.save(sess, \"C:/Anabel/inatel 2020/TP555- IA and ML/10ma aula/my_models/my_model_final.ckpt\")\n",
    "    \n",
    "    y_pred = sigmoid.eval(feed_dict={X: x_test})\n",
    "    \n",
    "file_writer.close()"
   ]
  },
  {
   "cell_type": "code",
   "execution_count": 120,
   "metadata": {},
   "outputs": [
    {
     "name": "stdout",
     "output_type": "stream",
     "text": [
      "Precision Score:  0.8290598290598291\n"
     ]
    }
   ],
   "source": [
    "# g)\n",
    "from sklearn.metrics import precision_score\n",
    "print('Precision Score: ', precision_score(y_test.reshape(-1, 1), np.around(y_pred)))"
   ]
  },
  {
   "cell_type": "code",
   "execution_count": 121,
   "metadata": {},
   "outputs": [
    {
     "data": {
      "image/png": "[encoded data removed]",
      "text/plain": [
       "<Figure size 360x360 with 1 Axes>"
      ]
     },
     "metadata": {
      "needs_background": "light"
     },
     "output_type": "display_data"
    }
   ],
   "source": [
    "# h)\n",
    "import matplotlib.pyplot as plt\n",
    "idx0 = np.argwhere(np.around(y_pred) == 0)\n",
    "idx1 = np.argwhere(np.around(y_pred) == 1)\n",
    "fig = plt.figure(figsize=(5,5))\n",
    "plt.plot(x_test[idx0[:,0],0], x_test[idx0[:,0],1], '.', label='Class 0')\n",
    "plt.plot(x_test[idx1[:,0],0], x_test[idx1[:,0],1], 'x', label='Class 1')\n",
    "plt.xlabel('$x_1$')\n",
    "plt.ylabel('$x_2$')\n",
    "plt.legend()\n",
    "plt.savefig('distribution_of_classes', dpi=600)\n",
    "plt.show()"
   ]
  },
  {
   "cell_type": "code",
   "execution_count": null,
   "metadata": {},
   "outputs": [],
   "source": []
  }
 ],
 "metadata": {
  "kernelspec": {
   "display_name": "Python 3",
   "language": "python",
   "name": "python3"
  },
  "language_info": {
   "codemirror_mode": {
    "name": "ipython",
    "version": 3
   },
   "file_extension": ".py",
   "mimetype": "text/x-python",
   "name": "python",
   "nbconvert_exporter": "python",
   "pygments_lexer": "ipython3",
   "version": "3.7.4"
  }
 },
 "nbformat": 4,
 "nbformat_minor": 2
}
