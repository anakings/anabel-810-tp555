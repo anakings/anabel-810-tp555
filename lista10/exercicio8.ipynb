{
 "cells": [
  {
   "cell_type": "code",
   "execution_count": 30,
   "metadata": {},
   "outputs": [],
   "source": [
    "import tensorflow.compat.v1 as tf\n",
    "tf.disable_v2_behavior()\n",
    "\n",
    "# Creating the graph.\n",
    "x = tf.placeholder(tf.float32, shape=None)\n",
    "y = tf.Variable(1, dtype=tf.float32, shape=tf.TensorShape(None), name=\"y\")\n",
    "f = y + 1"
   ]
  },
  {
   "cell_type": "code",
   "execution_count": 31,
   "metadata": {},
   "outputs": [
    {
     "name": "stdout",
     "output_type": "stream",
     "text": [
      "[[2. 3. 4.]]\n",
      "[[5. 6.]\n",
      " [7. 8.]]\n"
     ]
    }
   ],
   "source": [
    "with tf.Session() as sess:   \n",
    "    y.assign(x)\n",
    "    result = f.eval(feed_dict={y: [[1, 2, 3]]})\n",
    "    result1 = f.eval(feed_dict={y: [[4, 5], [6, 7]]})\n",
    "print(result)\n",
    "print(result1)"
   ]
  }
 ],
 "metadata": {
  "kernelspec": {
   "display_name": "Python 3",
   "language": "python",
   "name": "python3"
  },
  "language_info": {
   "codemirror_mode": {
    "name": "ipython",
    "version": 3
   },
   "file_extension": ".py",
   "mimetype": "text/x-python",
   "name": "python",
   "nbconvert_exporter": "python",
   "pygments_lexer": "ipython3",
   "version": "3.7.4"
  }
 },
 "nbformat": 4,
 "nbformat_minor": 2
}
