{
 "cells": [
  {
   "cell_type": "code",
   "execution_count": 2,
   "metadata": {},
   "outputs": [],
   "source": [
    "import numpy as np"
   ]
  },
  {
   "cell_type": "code",
   "execution_count": 108,
   "metadata": {},
   "outputs": [],
   "source": [
    "def f_entropia(listTotal):\n",
    "    idPo = np.argwhere(listTotal == 1)\n",
    "    entropia = -((len(idPo)/len(listTotal))*np.log2(len(idPo)/len(listTotal)) + (1-len(idPo)/len(listTotal))*np.log2(1-len(idPo)/len(listTotal)))\n",
    "    return entropia\n",
    "\n",
    "def f_factor(y, idx, factor):\n",
    "    count = 0\n",
    "    for k in idx:\n",
    "        if y[k] == 1: \n",
    "            count += 1                  # cantidad de valores de 'y' positivos evaluados en idx\n",
    "    if count == 0:\n",
    "        first_log_term = 1\n",
    "    else:\n",
    "        first_log_term = np.log2(count/len(idx))\n",
    "    if count/len(idx) == 1:\n",
    "        entropia = 0\n",
    "    else:\n",
    "        entropia = -(count/len(idx)*first_log_term + (1-count/len(idx))*np.log2(1-count/len(idx)))\n",
    "    factor = entropia*len(idx)/len(y) + factor\n",
    "    return factor\n",
    "\n",
    "def fuction(A, y):\n",
    "    factor_list = []\n",
    "    for i in range(A.shape[0]):\n",
    "        lista = []\n",
    "        for j in A[i,:]:\n",
    "            if j not in lista: lista.append(j)\n",
    "            \n",
    "        factor = 0\n",
    "        for j in lista:\n",
    "            idPo = np.argwhere(A[i,:] == j)\n",
    "            factor = f_factor(y, idPo, factor)\n",
    "        factor_list.append(entropiaTotal - factor)\n",
    "    return factor_list\n",
    "\n",
    "def checkEqual(id1, y):\n",
    "    x = True\n",
    "    repeated_output_list = []\n",
    "    for id1_value in id1:\n",
    "        if y[id1_value] not in repeated_output_list:\n",
    "            repeated_output_list.append(y[id1_value])\n",
    "        if len(repeated_output_list) > 1:\n",
    "            x = False\n",
    "    return x\n",
    "\n",
    "def f_newMatrix(oldMatrixValue, oldMatrixY, indexRow, listIndex):\n",
    "    new_matrixA = np.zeros((oldMatrixValue.shape[0]-1, len(listIndex))) \n",
    "    new_matrixY = np.zeros(len(listIndex))\n",
    "    counter = 0\n",
    "    for j in range(oldMatrixValue.shape[0]):\n",
    "        if j != indexRow:\n",
    "            lista = []\n",
    "            for index, listIndex_value in enumerate(listIndex):\n",
    "                new_matrixA[counter, index] = oldMatrixValue[j, listIndex_value]\n",
    "            counter += 1\n",
    "            \n",
    "    for index, listIndex_value in enumerate(listIndex):\n",
    "        new_matrixY[index] = oldMatrixY[listIndex_value]\n",
    "    return new_matrixA, new_matrixY"
   ]
  },
  {
   "cell_type": "code",
   "execution_count": 109,
   "metadata": {},
   "outputs": [
    {
     "name": "stdout",
     "output_type": "stream",
     "text": [
      "Gain: [0.17095059445466854, 0.4199730940219748, 0.01997309402197478]\n",
      "\n"
     ]
    }
   ],
   "source": [
    "A = np.array([[1,1,0,1,1],[0,0,1,1,1],[0,1,0,1,0]])\n",
    "y = np.array([0,0,0,1,1])\n",
    "values = ['A1', 'A2', 'A3']\n",
    "\n",
    "entropiaTotal = f_entropia(y)\n",
    "\n",
    "factor_list = fuction(A,y)\n",
    "        \n",
    "print('Gain: ' + str(factor_list) + '\\n')"
   ]
  },
  {
   "cell_type": "code",
   "execution_count": 110,
   "metadata": {},
   "outputs": [
    {
     "name": "stdout",
     "output_type": "stream",
     "text": [
      "[A2]--0--[negative]\n",
      "\n",
      "[A2]--1--\n",
      "\n",
      "Gain: [0.9709505944546686, 0.30428392778800195]\n",
      "\n"
     ]
    }
   ],
   "source": [
    "lista1 = []\n",
    "for i in A[np.argmax(factor_list),:]:\n",
    "    if i not in lista1: lista1.append(i)\n",
    "\n",
    "for l in lista1:\n",
    "    id1 = np.argwhere(A[np.argmax(factor_list),:] == l)\n",
    "    \n",
    "    if checkEqual(id1, y):\n",
    "        if y[id1[0]]== 0: value = 'negative' \n",
    "        else: value = 'positive'\n",
    "        print('[' + str(values[np.argmax(factor_list)]) + ']' + '--' + str(l)+ '--' + '[' + str(value) + ']' + '\\n')\n",
    "        to_remove_from_values = values[np.argmax(factor_list)]\n",
    "    else:\n",
    "        print('[' + str(values[np.argmax(factor_list)]) + ']' + '--' + str(l)+ '--'  + '\\n')\n",
    "        Anew,yNew = f_newMatrix(A, y, np.argmax(factor_list), id1)\n",
    "        factor_list = fuction(Anew,yNew)\n",
    "        \n",
    "        print('Gain: ' + str(factor_list) + '\\n')\n",
    "values.remove(to_remove_from_values)"
   ]
  },
  {
   "cell_type": "code",
   "execution_count": 111,
   "metadata": {},
   "outputs": [
    {
     "name": "stdout",
     "output_type": "stream",
     "text": [
      "[A1]--0--[negative]\n",
      "\n",
      "[A1]--1--[positive]\n",
      "\n"
     ]
    }
   ],
   "source": [
    "lista1 = []\n",
    "for i in Anew[np.argmax(factor_list),:]:\n",
    "    if i not in lista1: lista1.append(i)\n",
    "\n",
    "for l in lista1:\n",
    "    id1 = np.argwhere(Anew[np.argmax(factor_list),:] == l)\n",
    "    if checkEqual(id1, yNew):\n",
    "        if yNew[id1[0]]== 0: value = 'negative' \n",
    "        else: value = 'positive'\n",
    "        print('[' + str(values[np.argmax(factor_list)]) + ']' + '--' + str(int(l))+ '--' + '[' + str(value) + ']' + '\\n')\n",
    "        to_remove_from_values = values[np.argmax(factor_list)]\n",
    "    else:\n",
    "        Anew1,yNew1 = f_newMatrix(Anew, yNew, np.argmax(factor_list), id1)\n",
    "        factor_list = fuction(Anew1,yNew)\n",
    "        \n",
    "        print('Gain: ' + str(factor_list) + '\\n')\n",
    "values.remove(values[np.argmax(factor_list)])"
   ]
  },
  {
   "cell_type": "code",
   "execution_count": 112,
   "metadata": {},
   "outputs": [
    {
     "name": "stdout",
     "output_type": "stream",
     "text": [
      "      ___\n",
      "     | A2|\n",
      "     |___|\n",
      "     /   \\ 1\n",
      "  0 /    _\\_\n",
      "   /    | A1|\n",
      " _/_    |___|\n",
      "|_-_| 1 /   \\ 0\n",
      "      _/_   _\\_\n",
      "     |_+_| |_-_|\n"
     ]
    }
   ],
   "source": [
    "print('      ___')\n",
    "print('     | A2|')\n",
    "print('     |___|')\n",
    "print('     /   \\ 1')\n",
    "print('  0 /    _\\_')\n",
    "print('   /    | A1|')\n",
    "print(' _/_    |___|')\n",
    "print('|_-_| 1 /   \\ 0')\n",
    "print('      _/_   _\\_')\n",
    "print('     |_+_| |_-_|')"
   ]
  },
  {
   "cell_type": "code",
   "execution_count": null,
   "metadata": {},
   "outputs": [],
   "source": []
  }
 ],
 "metadata": {
  "kernelspec": {
   "display_name": "Python 3",
   "language": "python",
   "name": "python3"
  },
  "language_info": {
   "codemirror_mode": {
    "name": "ipython",
    "version": 3
   },
   "file_extension": ".py",
   "mimetype": "text/x-python",
   "name": "python",
   "nbconvert_exporter": "python",
   "pygments_lexer": "ipython3",
   "version": "3.7.4"
  }
 },
 "nbformat": 4,
 "nbformat_minor": 2
}
