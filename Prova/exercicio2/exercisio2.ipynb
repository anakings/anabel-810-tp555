{
 "cells": [
  {
   "cell_type": "code",
   "execution_count": 2,
   "metadata": {},
   "outputs": [
    {
     "name": "stdout",
     "output_type": "stream",
     "text": [
      "Comprovando que a suma das probabilidades seja 1: 0.802067489711934\n",
      "A probabilidade da pessoa comprar um personal computer é 0.645267489711934 e a probabilidade nao comprar é 0.1568\n",
      "Como a probabilidade que ele pague é maior eu acho que SIM vai a comprar\n"
     ]
    }
   ],
   "source": [
    "import xlrd\n",
    "\n",
    "# To open Workbook\n",
    "wb = xlrd.open_workbook('payment.xlsx')\n",
    "sheet = wb.sheet_by_index(0)\n",
    "\n",
    "def calculate_probability(c_possibility, c_condictions, attribute_possibility, attribute_condictions, row):\n",
    "    count1 = 0\n",
    "    count2 = 0\n",
    "    for i in range(1, row): \n",
    "        if sheet.cell_value(i, c_condictions) == attribute_condictions:\n",
    "            count1 += 1\n",
    "        if sheet.cell_value(i, c_possibility) == attribute_possibility and sheet.cell_value(i, c_condictions) == attribute_condictions:\n",
    "            count2 += 1\n",
    "    #print(str(count2) + ' and ' + str(count1))\n",
    "    probability = count2/count1\n",
    "    return probability\n",
    "\n",
    "row = 1\n",
    "while True:\n",
    "    try:\n",
    "        if sheet.cell_value(row, 0) == '':\n",
    "            break\n",
    "        row += 1\n",
    "    except:\n",
    "        break\n",
    "\n",
    "count = 0\n",
    "for t in range(1, row): \n",
    "    if sheet.cell_value(t, 4) == 1:\n",
    "        count += 1\n",
    "probSim = count/(row - 1)\n",
    "probNao = 1 - probSim\n",
    "\n",
    "count = 0\n",
    "for t in range(1, row): \n",
    "    if sheet.cell_value(t, 0) == 0:\n",
    "        count += 1\n",
    "probIdade = count/(row - 1)\n",
    "\n",
    "count = 0\n",
    "for t in range(1, row): \n",
    "    if sheet.cell_value(t, 1) == 1:\n",
    "        count += 1\n",
    "probRenda = count/(row - 1)\n",
    "\n",
    "count = 0\n",
    "for t in range(1, row): \n",
    "    if sheet.cell_value(t, 2) == 1:\n",
    "        count += 1\n",
    "probEstudante = count/(row - 1)\n",
    "\n",
    "count = 0\n",
    "for t in range(1, row): \n",
    "    if sheet.cell_value(t, 3) == 0:\n",
    "        count += 1\n",
    "probCredito = count/(row - 1)\n",
    "\n",
    "idade_sim_pagou = calculate_probability(0, 4, 0, 1, row)\n",
    "idade_nao_pagou = calculate_probability(0, 4, 0, 0, row)\n",
    "renda_sim_pagou = calculate_probability(1, 4, 1, 1, row)\n",
    "renda_nao_pagou = calculate_probability(1, 4, 1, 0, row)\n",
    "estudante_sim_pagou = calculate_probability(2, 4, 1, 1, row)\n",
    "estudante_nao_pagou = calculate_probability(2, 4, 1, 0, row)\n",
    "credito_sim_pagou = calculate_probability(3, 4, 0, 1, row)\n",
    "credito_nao_pagou = calculate_probability(3, 4, 0, 0, row)\n",
    "\n",
    "pagarsim = idade_sim_pagou*renda_sim_pagou*estudante_sim_pagou*credito_sim_pagou*probSim/(probIdade*probRenda*probEstudante*probCredito)\n",
    "pagarnao = idade_nao_pagou*renda_nao_pagou*estudante_nao_pagou*credito_nao_pagou*probNao/(probIdade*probRenda*probEstudante*probCredito)\n",
    "print('Comprovando que a suma das probabilidades seja 1: ' + str(pagarsim + pagarnao))\n",
    "\n",
    "print('A probabilidade da pessoa comprar um personal computer é ' + str(pagarsim) + ' e a probabilidade nao comprar é ' + str(pagarnao))\n",
    "\n",
    "if pagarsim > pagarnao:\n",
    "    print('Como a probabilidade que ele pague é maior eu acho que SIM vai a comprar')\n",
    "else:\n",
    "    print('Como a probabilidade que ele pague é menor ou igual eu acho que NAO vai a comprar')"
   ]
  },
  {
   "cell_type": "code",
   "execution_count": null,
   "metadata": {},
   "outputs": [],
   "source": []
  }
 ],
 "metadata": {
  "kernelspec": {
   "display_name": "Python 3",
   "language": "python",
   "name": "python3"
  },
  "language_info": {
   "codemirror_mode": {
    "name": "ipython",
    "version": 3
   },
   "file_extension": ".py",
   "mimetype": "text/x-python",
   "name": "python",
   "nbconvert_exporter": "python",
   "pygments_lexer": "ipython3",
   "version": "3.7.4"
  }
 },
 "nbformat": 4,
 "nbformat_minor": 2
}
