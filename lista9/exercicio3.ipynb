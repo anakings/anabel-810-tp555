{
 "cells": [
  {
   "cell_type": "code",
   "execution_count": 18,
   "metadata": {},
   "outputs": [
    {
     "name": "stdout",
     "output_type": "stream",
     "text": [
      "A)\n"
     ]
    },
    {
     "data": {
      "image/png": "[encoded data removed]",
      "text/plain": [
       "<Figure size 360x360 with 1 Axes>"
      ]
     },
     "metadata": {
      "needs_background": "light"
     },
     "output_type": "display_data"
    },
    {
     "name": "stdout",
     "output_type": "stream",
     "text": [
      "B) Após inspecionar a figura, eu acho que devem ser utilizados 4 clusters com algoritmo do k-Means.\n"
     ]
    }
   ],
   "source": [
    "import numpy as np\n",
    "import matplotlib.pyplot as plt\n",
    "from sklearn.cluster import KMeans\n",
    "from sklearn.datasets import make_blobs\n",
    "\n",
    "x, y = make_blobs(n_samples=150, n_features=2, centers=5, cluster_std=1.0, shuffle=True,\n",
    "random_state=42)\n",
    "\n",
    "print('A)')\n",
    "fig = plt.figure(figsize=(5,5))\n",
    "plt.plot(x[:,0],x[:,1], '.')\n",
    "plt.xlabel('$x_1$')\n",
    "plt.ylabel('$x_2$')\n",
    "plt.show()\n",
    "\n",
    "print('B) Após inspecionar a figura, eu acho que devem ser utilizados 4 clusters com algoritmo do k-Means.')"
   ]
  },
  {
   "cell_type": "code",
   "execution_count": 19,
   "metadata": {},
   "outputs": [
    {
     "name": "stdout",
     "output_type": "stream",
     "text": [
      "C)\n",
      "Initialization complete\n",
      "start iteration\n",
      "done sorting\n",
      "end inner loop\n",
      "Iteration 0, inertia 416.0016641069224\n",
      "start iteration\n",
      "done sorting\n",
      "end inner loop\n",
      "Iteration 1, inertia 416.0016641069224\n",
      "center shift 0.000000e+00 within tolerance 2.915599e-03\n",
      "Initialization complete\n",
      "start iteration\n",
      "done sorting\n",
      "end inner loop\n",
      "Iteration 0, inertia 416.0016641069224\n",
      "start iteration\n",
      "done sorting\n",
      "end inner loop\n",
      "Iteration 1, inertia 416.0016641069224\n",
      "center shift 0.000000e+00 within tolerance 2.915599e-03\n",
      "Initialization complete\n",
      "start iteration\n",
      "done sorting\n",
      "end inner loop\n",
      "Iteration 0, inertia 416.0016641069224\n",
      "start iteration\n",
      "done sorting\n",
      "end inner loop\n",
      "Iteration 1, inertia 416.0016641069224\n",
      "center shift 0.000000e+00 within tolerance 2.915599e-03\n",
      "Initialization complete\n",
      "start iteration\n",
      "done sorting\n",
      "end inner loop\n",
      "Iteration 0, inertia 426.3186952945109\n",
      "start iteration\n",
      "done sorting\n",
      "end inner loop\n",
      "Iteration 1, inertia 416.0016641069224\n",
      "start iteration\n",
      "done sorting\n",
      "end inner loop\n",
      "Iteration 2, inertia 416.0016641069224\n",
      "center shift 0.000000e+00 within tolerance 2.915599e-03\n",
      "Initialization complete\n",
      "start iteration\n",
      "done sorting\n",
      "end inner loop\n",
      "Iteration 0, inertia 416.0016641069224\n",
      "start iteration\n",
      "done sorting\n",
      "end inner loop\n",
      "Iteration 1, inertia 416.0016641069224\n",
      "center shift 0.000000e+00 within tolerance 2.915599e-03\n",
      "Initialization complete\n",
      "start iteration\n",
      "done sorting\n",
      "end inner loop\n",
      "Iteration 0, inertia 416.0016641069224\n",
      "start iteration\n",
      "done sorting\n",
      "end inner loop\n",
      "Iteration 1, inertia 416.0016641069224\n",
      "center shift 0.000000e+00 within tolerance 2.915599e-03\n",
      "Initialization complete\n",
      "start iteration\n",
      "done sorting\n",
      "end inner loop\n",
      "Iteration 0, inertia 488.7248725160724\n",
      "start iteration\n",
      "done sorting\n",
      "end inner loop\n",
      "Iteration 1, inertia 416.0016641069224\n",
      "start iteration\n",
      "done sorting\n",
      "end inner loop\n",
      "Iteration 2, inertia 416.0016641069224\n",
      "center shift 0.000000e+00 within tolerance 2.915599e-03\n",
      "Initialization complete\n",
      "start iteration\n",
      "done sorting\n",
      "end inner loop\n",
      "Iteration 0, inertia 416.0016641069224\n",
      "start iteration\n",
      "done sorting\n",
      "end inner loop\n",
      "Iteration 1, inertia 416.0016641069224\n",
      "center shift 0.000000e+00 within tolerance 2.915599e-03\n",
      "Initialization complete\n",
      "start iteration\n",
      "done sorting\n",
      "end inner loop\n",
      "Iteration 0, inertia 427.31797766350303\n",
      "start iteration\n",
      "done sorting\n",
      "end inner loop\n",
      "Iteration 1, inertia 416.0016641069224\n",
      "start iteration\n",
      "done sorting\n",
      "end inner loop\n",
      "Iteration 2, inertia 416.0016641069224\n",
      "center shift 0.000000e+00 within tolerance 2.915599e-03\n",
      "Initialization complete\n",
      "start iteration\n",
      "done sorting\n",
      "end inner loop\n",
      "Iteration 0, inertia 445.2787891750074\n",
      "start iteration\n",
      "done sorting\n",
      "end inner loop\n",
      "Iteration 1, inertia 416.0016641069224\n",
      "start iteration\n",
      "done sorting\n",
      "end inner loop\n",
      "Iteration 2, inertia 416.0016641069224\n",
      "center shift 0.000000e+00 within tolerance 2.915599e-03\n",
      "\n",
      "D)\n",
      "Centroid 0: (3.45, 2.99)\n",
      "Centroid 1: (-8.90, 7.43)\n",
      "Centroid 2: (-7.02, -6.59)\n",
      "Centroid 3: (-2.76, 8.82)\n"
     ]
    }
   ],
   "source": [
    "print('C)')\n",
    "\n",
    "km = KMeans(n_clusters=4, init='k-means++', verbose=1)\n",
    "km.fit_predict(x)\n",
    "print('\\nD)')\n",
    "for i in range(0,4):\n",
    "    print('Centroid %d: (%1.2f, %1.2f)' % (i,km.cluster_centers_[i][0],km.cluster_centers_[i][1]))"
   ]
  },
  {
   "cell_type": "code",
   "execution_count": 20,
   "metadata": {},
   "outputs": [
    {
     "name": "stdout",
     "output_type": "stream",
     "text": [
      "E) Foram necessárias 25 iterações para se treinar o modelo. Pode-se conferir na saída do verbose.\n"
     ]
    }
   ],
   "source": [
    "print('E) Foram necessárias', 25, 'iterações para se treinar o modelo. Pode-se conferir na saída do verbose.')"
   ]
  },
  {
   "cell_type": "code",
   "execution_count": 21,
   "metadata": {},
   "outputs": [
    {
     "name": "stdout",
     "output_type": "stream",
     "text": [
      "F)\n"
     ]
    },
    {
     "data": {
      "image/png": "[encoded data removed]",
      "text/plain": [
       "<Figure size 360x360 with 1 Axes>"
      ]
     },
     "metadata": {
      "needs_background": "light"
     },
     "output_type": "display_data"
    }
   ],
   "source": [
    "c = np.array([[3.45, 2.99],[-7.02, -6.59],[-8.90, 7.43],[-2.76, 8.82]])\n",
    "\n",
    "matrix_new = np.zeros((x.shape[0],c.shape[0]))\n",
    "for i in range(c.shape[0]):\n",
    "    for k in range(x.shape[0]):\n",
    "        dist = 0\n",
    "        for l in range(x.shape[1]):\n",
    "            dist = dist + (x[k,l] - c[i,l])**2\n",
    "        matrix_new[k,i] = np.sqrt(dist)\n",
    "\n",
    "#recalculate the centroids\n",
    "index = np.zeros((x.shape[0],1))\n",
    "for i in range(x.shape[0]):\n",
    "    q = np.argmin(matrix_new[i,:])\n",
    "    index[i,0] = q\n",
    "\n",
    "print('F)')\n",
    "idx0 = np.argwhere(index == 0)\n",
    "idx1 = np.argwhere(index == 1)\n",
    "idx2 = np.argwhere(index == 2)\n",
    "idx3 = np.argwhere(index == 3)\n",
    "\n",
    "fig = plt.figure(figsize=(5,5))\n",
    "plt.plot(x[idx0[:,0],0], x[idx0[:,0],1], 'b.')\n",
    "plt.plot(x[idx1[:,0],0], x[idx1[:,0],1], 'r.')\n",
    "plt.plot(x[idx2[:,0],0], x[idx2[:,0],1], 'g.')\n",
    "plt.plot(x[idx3[:,0],0], x[idx3[:,0],1], 'y.')\n",
    "plt.plot(c[0,0],c[0,1], 'bx', label='Centroid 0')\n",
    "plt.plot(c[1,0],c[1,1], 'rx', label='Centroid 1')\n",
    "plt.plot(c[2,0],c[2,1], 'gx', label='Centroid 2')\n",
    "plt.plot(c[3,0],c[3,1], 'yx', label='Centroid 3')\n",
    "plt.xlabel('$x_1$')\n",
    "plt.ylabel('$x_2$')\n",
    "plt.legend()\n",
    "plt.savefig('distribution_of_centroid', dpi=600)\n",
    "plt.show()"
   ]
  },
  {
   "cell_type": "code",
   "execution_count": null,
   "metadata": {},
   "outputs": [],
   "source": []
  }
 ],
 "metadata": {
  "kernelspec": {
   "display_name": "Python 3",
   "language": "python",
   "name": "python3"
  },
  "language_info": {
   "codemirror_mode": {
    "name": "ipython",
    "version": 3
   },
   "file_extension": ".py",
   "mimetype": "text/x-python",
   "name": "python",
   "nbconvert_exporter": "python",
   "pygments_lexer": "ipython3",
   "version": "3.7.4"
  }
 },
 "nbformat": 4,
 "nbformat_minor": 2
}
