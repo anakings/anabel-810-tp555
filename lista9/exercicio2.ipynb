{
 "cells": [
  {
   "cell_type": "code",
   "execution_count": 116,
   "metadata": {},
   "outputs": [
    {
     "name": "stdout",
     "output_type": "stream",
     "text": [
      "Centroid 0: [6. 7.]\n",
      "Centroid 1: [2. 3.]\n",
      "Centroid 2: [3.25 4.75]\n",
      "Number of iterations: 4\n"
     ]
    }
   ],
   "source": [
    "import numpy as np\n",
    "import matplotlib.pyplot as plt\n",
    "from sklearn.cluster import KMeans\n",
    "\n",
    "def areSame(A,B,n):\n",
    "    for i in range(n):\n",
    "        if (A[i][0] != B[i][0]):\n",
    "            return 0\n",
    "    return 1\n",
    "\n",
    "x = np.array([[1,4],[4,3],[4,5],[3,6],[6,7],[3,3],[2,5],[2,2],[2,3]])\n",
    "c = np.array([[5,3],[1,3],[3,4]])\n",
    "\n",
    "same = 0\n",
    "last = np.zeros((x.shape[0],1))\n",
    "itera = 0\n",
    "while same == 0:\n",
    "    #find distances from all values at all centroids\n",
    "    matrix_new = np.zeros((x.shape[0],c.shape[0]))\n",
    "    for i in range(c.shape[0]):\n",
    "        for k in range(x.shape[0]):\n",
    "            dist = 0\n",
    "            for l in range(x.shape[1]):\n",
    "                dist = dist + (x[k,l] - c[i,l])**2\n",
    "            matrix_new[k,i] = np.sqrt(dist)\n",
    "\n",
    "    #recalculate the centroids\n",
    "    index = np.zeros((x.shape[0],1))\n",
    "    c = np.zeros((c.shape[0],c.shape[1]))\n",
    "    cont = np.zeros((c.shape[0],1))\n",
    "    for i in range(x.shape[0]):\n",
    "        q = np.argmin(matrix_new[i,:])\n",
    "        index[i,0] = q\n",
    "        for l in range(c.shape[0]):\n",
    "            if q == l:\n",
    "                cont[l,0] += 1\n",
    "                for j in range(x.shape[1]):\n",
    "                    c[q,j] = c[q,j] + x[i,j]\n",
    "    for i in range(c.shape[0]):\n",
    "        for j in range(c.shape[1]):\n",
    "            c[i,j] = c[i,j]/cont[i,0]\n",
    "        \n",
    "    same = areSame(index,last,x.shape[0])\n",
    "    last = index\n",
    "    itera += 1\n",
    "\n",
    "for i in range(c.shape[0]):   \n",
    "    print('Centroid ' + str(i) + ': ' + str(c[i,:]))\n",
    "print('Number of iterations:', itera)"
   ]
  },
  {
   "cell_type": "code",
   "execution_count": 117,
   "metadata": {},
   "outputs": [
    {
     "name": "stdout",
     "output_type": "stream",
     "text": [
      "A)\n"
     ]
    },
    {
     "data": {
      "image/png": "[encoded data removed]",
      "text/plain": [
       "<Figure size 360x360 with 1 Axes>"
      ]
     },
     "metadata": {
      "needs_background": "light"
     },
     "output_type": "display_data"
    }
   ],
   "source": [
    "print('A)')\n",
    "fig = plt.figure(figsize=(5,5))\n",
    "plt.plot(x[:,0],x[:,1], '.')\n",
    "plt.xlabel('$x_1$')\n",
    "plt.ylabel('$x_2$')\n",
    "plt.show()"
   ]
  },
  {
   "cell_type": "code",
   "execution_count": 118,
   "metadata": {},
   "outputs": [
    {
     "name": "stdout",
     "output_type": "stream",
     "text": [
      "C)\n",
      "Initialization complete\n",
      "start iteration\n",
      "done sorting\n",
      "end inner loop\n",
      "Iteration 0, inertia 19.416666666666668\n",
      "start iteration\n",
      "done sorting\n",
      "end inner loop\n",
      "Iteration 1, inertia 14.666666666666668\n",
      "start iteration\n",
      "done sorting\n",
      "end inner loop\n",
      "Iteration 2, inertia 11.5\n",
      "start iteration\n",
      "done sorting\n",
      "end inner loop\n",
      "Iteration 3, inertia 11.5\n",
      "center shift 0.000000e+00 within tolerance 2.197531e-04\n",
      "Centroid 0: (6.00, 7.00)\n",
      "Centroid 1: (2.00, 3.00)\n",
      "Centroid 2: (3.25, 4.75)\n"
     ]
    },
    {
     "name": "stderr",
     "output_type": "stream",
     "text": [
      "C:\\Users\\Anabel\\Anaconda3\\lib\\site-packages\\sklearn\\cluster\\k_means_.py:972: RuntimeWarning: Explicit initial center position passed: performing only one init in k-means instead of n_init=10\n",
      "  return_n_iter=True)\n"
     ]
    }
   ],
   "source": [
    "print('C)')\n",
    "\n",
    "c = np.array([[5,3],[1,3],[3,4]])\n",
    "km = KMeans(n_clusters=3, init=c, verbose=1)\n",
    "km.fit_predict(x)\n",
    "\n",
    "for i in range(0,3):\n",
    "    print('Centroid %d: (%1.2f, %1.2f)' % (i,km.cluster_centers_[i][0],km.cluster_centers_[i][1]))"
   ]
  },
  {
   "cell_type": "code",
   "execution_count": 119,
   "metadata": {},
   "outputs": [
    {
     "name": "stdout",
     "output_type": "stream",
     "text": [
      "D) Foram necessárias 4 iterações para se treinar o modelo. Pode-se conferir na saída do verbose (Iteration 0 - Iteration 3)\n"
     ]
    }
   ],
   "source": [
    "print('D) Foram necessárias', 4, 'iterações para se treinar o modelo. Pode-se conferir na saída do verbose (Iteration 0 - Iteration 3)')"
   ]
  },
  {
   "cell_type": "code",
   "execution_count": 120,
   "metadata": {},
   "outputs": [
    {
     "name": "stdout",
     "output_type": "stream",
     "text": [
      "E)\n"
     ]
    },
    {
     "data": {
      "image/png": "[encoded data removed]",
      "text/plain": [
       "<Figure size 360x360 with 1 Axes>"
      ]
     },
     "metadata": {
      "needs_background": "light"
     },
     "output_type": "display_data"
    }
   ],
   "source": [
    "c = np.array([[6.00, 7.00],[2.00, 3.00],[3.25, 4.75]])\n",
    "\n",
    "matrix_new = np.zeros((x.shape[0],c.shape[0]))\n",
    "for i in range(c.shape[0]):\n",
    "    for k in range(x.shape[0]):\n",
    "        dist = 0\n",
    "        for l in range(x.shape[1]):\n",
    "            dist = dist + (x[k,l] - c[i,l])**2\n",
    "        matrix_new[k,i] = np.sqrt(dist)\n",
    "\n",
    "#recalculate the centroids\n",
    "index = np.zeros((x.shape[0],1))\n",
    "for i in range(x.shape[0]):\n",
    "    q = np.argmin(matrix_new[i,:])\n",
    "    index[i,0] = q\n",
    "\n",
    "print('E)')\n",
    "idx0 = np.argwhere(index == 0)\n",
    "idx1 = np.argwhere(index == 1)\n",
    "idx2 = np.argwhere(index == 2)\n",
    "\n",
    "fig = plt.figure(figsize=(5,5))\n",
    "plt.plot(x[idx0[:,0],0], x[idx0[:,0],1], 'b.')\n",
    "plt.plot(x[idx1[:,0],0], x[idx1[:,0],1], 'r.')\n",
    "plt.plot(x[idx2[:,0],0], x[idx2[:,0],1], 'g.')\n",
    "plt.plot(c[0,0],c[0,1], 'bx', label='Centroid 0')\n",
    "plt.plot(c[1,0],c[1,1], 'rx', label='Centroid 1')\n",
    "plt.plot(c[2,0],c[2,1], 'gx', label='Centroid 2')\n",
    "plt.xlabel('$x_1$')\n",
    "plt.ylabel('$x_2$')\n",
    "plt.legend()\n",
    "plt.savefig('distribution_of_centroid', dpi=600)\n",
    "plt.show()"
   ]
  },
  {
   "cell_type": "code",
   "execution_count": null,
   "metadata": {},
   "outputs": [],
   "source": []
  }
 ],
 "metadata": {
  "kernelspec": {
   "display_name": "Python 3",
   "language": "python",
   "name": "python3"
  },
  "language_info": {
   "codemirror_mode": {
    "name": "ipython",
    "version": 3
   },
   "file_extension": ".py",
   "mimetype": "text/x-python",
   "name": "python",
   "nbconvert_exporter": "python",
   "pygments_lexer": "ipython3",
   "version": "3.7.4"
  }
 },
 "nbformat": 4,
 "nbformat_minor": 2
}
