{
 "cells": [
  {
   "cell_type": "code",
   "execution_count": 99,
   "metadata": {},
   "outputs": [],
   "source": [
    "# Import all necessary libraries.\n",
    "import numpy as np\n",
    "from scipy.special import erfc\n",
    "from sklearn.cluster import KMeans\n",
    "import matplotlib.pyplot as plt"
   ]
  },
  {
   "cell_type": "code",
   "execution_count": 100,
   "metadata": {},
   "outputs": [],
   "source": [
    "# Number of QPSK symbols to be transmitted.\n",
    "N = 1000000"
   ]
  },
  {
   "cell_type": "code",
   "execution_count": 101,
   "metadata": {},
   "outputs": [],
   "source": [
    "# Instantiate K-means.\n",
    "km = KMeans(n_clusters=4, init='k-means++')"
   ]
  },
  {
   "cell_type": "code",
   "execution_count": 102,
   "metadata": {},
   "outputs": [],
   "source": [
    "#A)\n",
    "# Create Es/N0 vector.\n",
    "EsN0dB = np.arange(-2,21,2)\n",
    "\n",
    "ser_simu = np.zeros(len(EsN0dB))\n",
    "ser_theo = np.zeros(len(EsN0dB))\n",
    "for idx in range(0,len(EsN0dB)):\n",
    "    \n",
    "    #print('Es/N0 dB:', EsN0dB[idx])\n",
    "    \n",
    "    EsN0Lin = 10.0**(-(EsN0dB[idx]/10.0))\n",
    "    \n",
    "    # Generate N QPSK symbols.\n",
    "    ip = (2.0 * (np.random.rand(N) >= 0.5) - 1.0).reshape(N, 1) + 1j*(2.0 * (np.random.rand(N) >= 0.5) - 1.0).reshape(N, 1)\n",
    "    # Normalization of energy to 1.\n",
    "    ip = (1/np.sqrt(2))*ip\n",
    "    \n",
    "    # Generate noise vector with unitary variance.\n",
    "    noise = np.sqrt(1.0/2.0)*(np.random.randn(N, 1) + 1j*np.random.randn(N, 1))\n",
    "    \n",
    "    # Pass symbols through AWGN channel.\n",
    "    y = ip + np.sqrt(EsN0Lin)*noise\n",
    "    \n",
    "    y_re = y.real\n",
    "    y_im = y.imag\n",
    "    y = np.concatenate((y_re, y_im), axis=1)\n",
    "    \n",
    "    # Fit and prediction model for real part.\n",
    "    km.fit_predict(y)\n",
    "    \n",
    "    c = np.zeros((4,2))\n",
    "    for i in range(0,4):\n",
    "        c[i,0] = km.cluster_centers_[i][0]\n",
    "        c[i,1] = km.cluster_centers_[i][1]\n",
    "        #print('Centroid %d: (%1.2f, %1.2f)' % (i,km.cluster_centers_[i][0],km.cluster_centers_[i][1]))\n",
    "        \n",
    "    matrix_new = np.zeros((y.shape[0],c.shape[0]))\n",
    "    for i in range(c.shape[0]):\n",
    "        for k in range(y.shape[0]):\n",
    "            dist = 0\n",
    "            for l in range(y.shape[1]):\n",
    "                dist = dist + (y[k,l] - c[i,l])**2\n",
    "            matrix_new[k,i] = np.sqrt(dist)\n",
    "    \n",
    "    index = np.zeros((y.shape[0],1))\n",
    "    for i in range(y.shape[0]):\n",
    "        q = np.argmin(matrix_new[i,:])\n",
    "        index[i,0] = q\n",
    "\n",
    "    symb = np.array([[1/np.sqrt(2),1/np.sqrt(2)],[-1/np.sqrt(2),1/np.sqrt(2)],[1/np.sqrt(2),-1/np.sqrt(2)],[-1/np.sqrt(2),-1/np.sqrt(2)]])\n",
    "    \n",
    "    symb_detected = np.zeros((y.shape[0],2))\n",
    "    for i in range(index.shape[0]):\n",
    "        matrix_new = np.zeros((symb.shape[0],1))\n",
    "        for k in range(symb.shape[0]):\n",
    "            dist = 0\n",
    "            for l in range(symb.shape[1]):\n",
    "                dist = dist + (symb[k,l] - c[int(index[i,0]),l])**2\n",
    "            matrix_new[k,0] = np.sqrt(dist)\n",
    "            \n",
    "        symb_detected[i,0] = symb[np.argmin(matrix_new),0]\n",
    "        symb_detected[i,1] = symb[np.argmin(matrix_new),1]\n",
    "    \n",
    "    # Simulated QPSK BER.\n",
    "    error_re = (ip.real != symb_detected[:,0].reshape(symb_detected.shape[0],1))\n",
    "    error_im = (ip.imag != symb_detected[:,1].reshape(symb_detected.shape[0],1))\n",
    "    error = 0\n",
    "    for i in range(0, N): \n",
    "        if(error_re[i]==True or error_im[i]==True): \n",
    "            error += 1\n",
    "    \n",
    "    ser_simu[idx] = 1.0 * error / N\n",
    "    \n",
    "    # Theoretical QPSK BER.    \n",
    "    ser_theo[idx] = erfc(np.sqrt(0.5*(10.0**(EsN0dB[idx]/10.0)))) - (1/4)*(erfc(np.sqrt(0.5*(10.0**(EsN0dB[idx]/10.0)))))**2.0\n",
    "    "
   ]
  },
  {
   "cell_type": "code",
   "execution_count": 112,
   "metadata": {},
   "outputs": [
    {
     "name": "stdout",
     "output_type": "stream",
     "text": [
      "Es/N0:-2 \t- BER: 3.813090e-01\n",
      "Es/N0:0 \t- BER: 2.916750e-01\n",
      "Es/N0:2 \t- BER: 1.969060e-01\n",
      "Es/N0:4 \t- BER: 1.096210e-01\n",
      "Es/N0:6 \t- BER: 4.519700e-02\n",
      "Es/N0:8 \t- BER: 1.194500e-02\n",
      "Es/N0:10 \t- BER: 1.615000e-03\n",
      "Es/N0:12 \t- BER: 7.600000e-05\n",
      "Es/N0:14 \t- BER: 0.000000e+00\n",
      "Es/N0:16 \t- BER: 0.000000e+00\n",
      "Es/N0:18 \t- BER: 0.000000e+00\n",
      "Es/N0:20 \t- BER: 0.000000e+00\n",
      "\n",
      "B.\n"
     ]
    },
    {
     "data": {
      "image/png": "[encoded data removed]",
      "text/plain": [
       "<Figure size 504x504 with 1 Axes>"
      ]
     },
     "metadata": {
      "needs_background": "light"
     },
     "output_type": "display_data"
    }
   ],
   "source": [
    "# Print Es/N0 versus BER values.\n",
    "for i in range(0,len(ser_simu)): print('Es/N0:%d \\t- BER: %e' % (EsN0dB[i], ser_simu[i]))\n",
    "\n",
    "# Plot Es/N0 versus BER values.\n",
    "print('\\nB.')\n",
    "fig = plt.figure(figsize=(7,7))\n",
    "plt.plot(EsN0dB, ser_theo, label='theoretical')\n",
    "plt.plot(EsN0dB, ser_simu, 'ro', label='simulated')\n",
    "plt.xscale('linear')\n",
    "plt.yscale('log')\n",
    "plt.xlabel('Es/N0 [dB]')\n",
    "plt.ylabel('BER')\n",
    "plt.grid(True)\n",
    "plt.title('QPSK detection')\n",
    "plt.legend()\n",
    "plt.xlim([-5, 20])\n",
    "#plt.ylim([1e-20, 1])\n",
    "plt.savefig(\"qpsk_ber_curves.png\", dpi=600)\n",
    "plt.show()"
   ]
  },
  {
   "cell_type": "code",
   "execution_count": 113,
   "metadata": {},
   "outputs": [
    {
     "name": "stdout",
     "output_type": "stream",
     "text": [
      "C. A curva simulada se aproxima da curva teórica da SER\n"
     ]
    }
   ],
   "source": [
    "print('C. A curva simulada se aproxima da curva teórica da SER')"
   ]
  },
  {
   "cell_type": "code",
   "execution_count": null,
   "metadata": {},
   "outputs": [],
   "source": []
  }
 ],
 "metadata": {
  "kernelspec": {
   "display_name": "Python 3",
   "language": "python",
   "name": "python3"
  },
  "language_info": {
   "codemirror_mode": {
    "name": "ipython",
    "version": 3
   },
   "file_extension": ".py",
   "mimetype": "text/x-python",
   "name": "python",
   "nbconvert_exporter": "python",
   "pygments_lexer": "ipython3",
   "version": "3.7.4"
  }
 },
 "nbformat": 4,
 "nbformat_minor": 2
}
