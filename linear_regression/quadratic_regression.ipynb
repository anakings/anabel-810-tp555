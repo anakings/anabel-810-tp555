{
 "cells": [
  {
   "cell_type": "code",
   "execution_count": 11,
   "metadata": {},
   "outputs": [
    {
     "name": "stdout",
     "output_type": "stream",
     "text": [
      "a0: 4.143095439163584\n",
      "a1: 3.105118964683636\n",
      "\n",
      "sklearn:\n",
      "a0: 4.14309543916358\n",
      "a1: 3.1051189646836397\n"
     ]
    }
   ],
   "source": [
    "import numpy as np\n",
    "\n",
    "N=100\n",
    "\n",
    "x = 2 * np.random.rand(N, 1)\n",
    "y = 4 + 3 * x + np.random.randn(N, 1)\n",
    "\n",
    "# Solve by applying the least-Squares method.\n",
    "# We use the inv() function from NumPy’s Linear Algebra module (np.linalg) to compute the inverse of a matrix.\n",
    "# We use dot() method for matrix multiplication.\n",
    "X_b = np.c_[np.ones((N, 1)), x] # add x0 = 1 to each instance #tiene que ser una matriz no singular por lo q no puede tener un valor igual a 0\n",
    "a_optimum = np.linalg.inv(X_b.T.dot(X_b)).dot(X_b.T).dot(y)\n",
    "\n",
    "print('a0: ' + str(a_optimum[0][0]))\n",
    "print('a1: ' + str(a_optimum[1][0]))\n",
    "\n",
    "# The equivalent solution using the Scikit-Learn library is given below\n",
    "# Import the linear regression module form the library.\n",
    "from sklearn.linear_model import LinearRegression\n",
    "lin_reg = LinearRegression().fit(x, y) # instantiate it.\n",
    "#lin_reg.fit(x, y)\n",
    "\n",
    "print('\\nsklearn:\\na0: ' + str(lin_reg.intercept_[0])) # Value that crosses the y-axis when all features are equal to 0.\n",
    "print('a1: ' + str(lin_reg.coef_[0][0])) # parameters associated with the features."
   ]
  }
 ],
 "metadata": {
  "kernelspec": {
   "display_name": "Python 3",
   "language": "python",
   "name": "python3"
  },
  "language_info": {
   "codemirror_mode": {
    "name": "ipython",
    "version": 3
   },
   "file_extension": ".py",
   "mimetype": "text/x-python",
   "name": "python",
   "nbconvert_exporter": "python",
   "pygments_lexer": "ipython3",
   "version": "3.7.4"
  }
 },
 "nbformat": 4,
 "nbformat_minor": 2
}
